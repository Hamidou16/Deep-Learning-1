{
 "cells": [
  {
   "cell_type": "markdown",
   "metadata": {},
   "source": [
    "# Deep Learning"
   ]
  },
  {
   "cell_type": "markdown",
   "metadata": {},
   "source": [
    "## 1. Self Organizing Maps\n",
    "In this section we will: \n",
    "<ol>\n",
    "    <li> build a Self Organizing Map (SOM) </li>\n",
    "    <li> return the specific features(like frauds) detected by the SOM </li>\n",
    "    <li> make a Hybrid Deep Learning model </li>\n",
    "</ol>\n",
    "We will do an unsupervised deep learning to detect frauds."
   ]
  },
  {
   "cell_type": "code",
   "execution_count": 1,
   "metadata": {},
   "outputs": [],
   "source": [
    "# Importing the libraries\n",
    "import numpy as np\n",
    "import matplotlib.pyplot as plt\n",
    "import pandas as pd"
   ]
  },
  {
   "cell_type": "code",
   "execution_count": 2,
   "metadata": {},
   "outputs": [
    {
     "name": "stdout",
     "output_type": "stream",
     "text": [
      "   CustomerID  A1     A2     A3  A4  A5  A6     A7  A8  A9  A10  A11  A12  \\\n",
      "0    15776156   1  22.08  11.46   2   4   4  1.585   0   0    0    1    2   \n",
      "1    15739548   0  22.67   7.00   2   8   4  0.165   0   0    0    0    2   \n",
      "2    15662854   0  29.58   1.75   1   4   4  1.250   0   0    0    1    2   \n",
      "3    15687688   0  21.67  11.50   1   5   3  0.000   1   1   11    1    2   \n",
      "4    15715750   1  20.17   8.17   2   6   4  1.960   1   1   14    0    2   \n",
      "\n",
      "   A13   A14  Class  \n",
      "0  100  1213      0  \n",
      "1  160     1      0  \n",
      "2  280     1      0  \n",
      "3    0     1      1  \n",
      "4   60   159      1  \n",
      "(690, 16)\n"
     ]
    }
   ],
   "source": [
    "# Importing the dataset\n",
    "dataset = pd.read_csv('Credit_Card_Applications.csv')\n",
    "print(dataset.head())\n",
    "print(dataset.shape)"
   ]
  },
  {
   "cell_type": "markdown",
   "metadata": {},
   "source": [
    "This dataset concerns credit card applications. All attribute names have been changed to meaningless symbols to protect confidentiality of the data.\n",
    "<br> The dataset is interesting because there is a good mix of attributes; continuous, nominal with small numbers of values, and nominal with larger numbers of values. There are also a few missing values.</br>"
   ]
  },
  {
   "cell_type": "code",
   "execution_count": 3,
   "metadata": {},
   "outputs": [
    {
     "name": "stdout",
     "output_type": "stream",
     "text": [
      "[[ 15776156.           1.          22.08        11.46         2.           4.\n",
      "          4.           1.58         0.           0.           0.           1.\n",
      "          2.         100.        1213.  ]\n",
      " [ 15739548.           0.          22.67         7.           2.           8.\n",
      "          4.           0.17         0.           0.           0.           0.\n",
      "          2.         160.           1.  ]]\n",
      "[0 0 0 1 1 1 0 1 0 0]\n"
     ]
    }
   ],
   "source": [
    "# Creating 2 datasets\n",
    "X = dataset.iloc[:, :-1].values\n",
    "y = dataset.iloc[:, -1].values\n",
    "np.set_printoptions(precision=2, suppress=True)\n",
    "print(X[0:2, :])\n",
    "print(y[0:10])"
   ]
  },
  {
   "cell_type": "code",
   "execution_count": 4,
   "metadata": {},
   "outputs": [
    {
     "name": "stdout",
     "output_type": "stream",
     "text": [
      "[[ 0.84  1.    0.13  0.41  0.5   0.23  0.38  0.06  0.    0.    0.    1.\n",
      "   0.5   0.05  0.01]\n",
      " [ 0.7   0.    0.13  0.25  0.5   0.54  0.38  0.01  0.    0.    0.    0.\n",
      "   0.5   0.08  0.  ]\n",
      " [ 0.39  0.    0.24  0.06  0.    0.23  0.38  0.04  0.    0.    0.    1.\n",
      "   0.5   0.14  0.  ]\n",
      " [ 0.49  0.    0.12  0.41  0.    0.31  0.25  0.    1.    1.    0.16  1.\n",
      "   0.5   0.    0.  ]]\n"
     ]
    }
   ],
   "source": [
    "# Feature scaling\n",
    "from sklearn.preprocessing import MinMaxScaler\n",
    "sc = MinMaxScaler(feature_range=(0,1))\n",
    "X = sc.fit_transform(X)\n",
    "print(X[0:4, :])"
   ]
  },
  {
   "cell_type": "code",
   "execution_count": 5,
   "metadata": {},
   "outputs": [],
   "source": [
    "# Training the SOM\n",
    "from minisom import MiniSom # Importing the MiniSom class which is present in the minisom.py file\n",
    "som = MiniSom(x=10, y=10, input_len=15, sigma=1.0, learning_rate=0.5) # Creating our object\n",
    "som.random_weights_init(X) # Initializing our weights using the random_weights_init function\n",
    "som.train_random(X, num_iteration=100)"
   ]
  },
  {
   "cell_type": "code",
   "execution_count": 6,
   "metadata": {},
   "outputs": [
    {
     "data": {
      "image/png": "[encoded data removed]",
      "text/plain": [
       "<matplotlib.figure.Figure at 0xade67b8>"
      ]
     },
     "metadata": {},
     "output_type": "display_data"
    }
   ],
   "source": [
    "# Visualizing the results\n",
    "from pylab import bone, pcolor, colorbar, plot, show\n",
    "bone()\n",
    "pcolor(som.distance_map().T)\n",
    "colorbar()\n",
    "markers = ['o', 's']\n",
    "colors = ['r', 'g']\n",
    "# Looping through all customers\n",
    "for i, x in enumerate(X):\n",
    "    w = som.winner(x) # using the winner method in minisom.py file \n",
    "    plot(w[0]+0.5,\n",
    "         w[1]+0.5, # putting the marker in the middle of the node\n",
    "         markers[y[i]],\n",
    "         markeredgecolor=colors[y[i]],\n",
    "         markerfacecolor='None',\n",
    "         markersize=10,\n",
    "         markeredgewidth=2)\n",
    "show()"
   ]
  },
  {
   "cell_type": "markdown",
   "metadata": {},
   "source": [
    "First, the lighter the wining node color is, the higher the Mean Interneuron Distance(MID) is, and inversely. \n",
    "<br> The green square means that the customer got an approval and the red circle means that the customer did not get. </br>\n",
    "<br> We can at least clearly notice that we have 2 outliers with coordinates (8,8) and (7,7).</br>\n",
    "<br> What is interesting is the association of the green square and the red circle.</br>\n",
    "<br> We will find out some potential frauds among the customers. </br>"
   ]
  },
  {
   "cell_type": "code",
   "execution_count": 8,
   "metadata": {},
   "outputs": [
    {
     "name": "stdout",
     "output_type": "stream",
     "text": [
      "[[ 15638610.           0.          55.75         7.08         2.           4.\n",
      "          8.           6.75         1.           1.           3.           1.\n",
      "          2.         100.          51.  ]\n",
      " [ 15738487.           0.          20.75        10.25         2.          11.\n",
      "          4.           0.71         1.           1.           2.           1.\n",
      "          2.          49.           1.  ]\n",
      " [ 15773421.           0.          20.75        10.34         2.          13.\n",
      "          8.           0.34         1.           1.           1.           1.\n",
      "          2.          80.          51.  ]\n",
      " [ 15682686.           0.          31.25         3.75         2.          13.\n",
      "          8.           0.62         1.           1.           9.           1.\n",
      "          2.         181.           1.  ]\n",
      " [ 15781875.           0.          24.75        12.5          2.           6.\n",
      "          4.           1.5          1.           1.          12.           1.\n",
      "          2.         120.         568.  ]\n",
      " [ 15761554.           0.          30.5          6.5          2.           8.\n",
      "          5.           4.           1.           1.           7.           1.\n",
      "          2.           0.        3066.  ]\n",
      " [ 15707602.           0.          22.83         2.29         2.          11.\n",
      "          8.           2.29         1.           1.           7.           1.\n",
      "          2.         140.        2385.  ]\n",
      " [ 15815095.           0.          22.58        10.75         2.          11.\n",
      "          4.           0.41         1.           1.           5.           1.\n",
      "          2.           0.         561.  ]\n",
      " [ 15720725.           0.          23.42         0.79         1.          11.\n",
      "          4.           1.5          1.           1.           2.           1.\n",
      "          2.          80.         401.  ]\n",
      " [ 15598614.           0.          23.          11.75         2.          14.\n",
      "          8.           0.5          1.           1.           2.           1.\n",
      "          2.         300.         552.  ]\n",
      " [ 15712483.           0.          46.67         0.46         2.          13.\n",
      "          8.           0.41         1.           1.          11.           1.\n",
      "          2.         440.           7.  ]\n",
      " [ 15572361.           0.          41.           2.04         1.          11.\n",
      "          8.           0.12         1.           1.          23.           1.\n",
      "          2.         455.        1237.  ]\n",
      " [ 15698522.           0.          19.75         0.75         2.           8.\n",
      "          4.           0.8          1.           1.           5.           1.\n",
      "          2.         140.           6.  ]\n",
      " [ 15660390.           0.          58.67         4.46         2.          11.\n",
      "          8.           3.04         1.           1.           6.           0.\n",
      "          2.          43.         561.  ]\n",
      " [ 15790254.           0.          18.92         9.           2.           6.\n",
      "          4.           0.75         1.           1.           2.           0.\n",
      "          2.          88.         592.  ]\n",
      " [ 15768600.           0.          22.42         5.67         2.          11.\n",
      "          4.           2.58         1.           1.           7.           0.\n",
      "          2.         129.        3258.  ]\n",
      " [ 15748552.           0.          30.67        12.           2.           8.\n",
      "          4.           2.           1.           1.           1.           0.\n",
      "          2.         220.          20.  ]\n",
      " [ 15757467.           0.          52.83        15.           2.           8.\n",
      "          4.           5.5          1.           1.          14.           0.\n",
      "          2.           0.        2201.  ]\n",
      " [ 15766183.           0.          24.5          0.5          2.          11.\n",
      "          8.           1.5          1.           0.           0.           0.\n",
      "          2.         280.         825.  ]\n",
      " [ 15682576.           0.          32.17         1.46         2.           9.\n",
      "          4.           1.08         1.           1.          16.           0.\n",
      "          2.         120.        2080.  ]\n",
      " [ 15642391.           0.          20.42         0.83         2.          11.\n",
      "          4.           1.58         1.           1.           1.           0.\n",
      "          2.           0.           1.  ]\n",
      " [ 15801441.           0.          35.75         0.91         2.           6.\n",
      "          4.           0.75         1.           1.           4.           0.\n",
      "          2.           0.        1584.  ]\n",
      " [ 15815443.           0.          57.08        19.5          2.           8.\n",
      "          4.           5.5          1.           1.           7.           0.\n",
      "          2.           0.        3001.  ]\n",
      " [ 15748432.           0.          58.33        10.           2.          11.\n",
      "          4.           4.           1.           1.          14.           0.\n",
      "          2.           0.        1603.  ]\n",
      " [ 15708714.           0.          18.75         7.5          2.          11.\n",
      "          4.           2.71         1.           1.           5.           0.\n",
      "          2.         184.       26727.  ]\n",
      " [ 15705343.           0.          20.33        10.           2.           8.\n",
      "          8.           1.           1.           1.           4.           0.\n",
      "          2.          50.        1466.  ]\n",
      " [ 15657778.           0.          24.75         3.           2.          11.\n",
      "          8.           1.83         1.           1.          19.           0.\n",
      "          2.           0.         501.  ]\n",
      " [ 15788131.           0.          29.5          0.46         2.           4.\n",
      "          4.           0.54         1.           1.           4.           0.\n",
      "          2.         380.         501.  ]\n",
      " [ 15652658.           0.          33.08         4.62         2.          11.\n",
      "          8.           1.62         1.           1.           2.           0.\n",
      "          2.           0.           1.  ]\n",
      " [ 15635244.           0.          20.67         3.           2.          11.\n",
      "          4.           0.17         1.           1.           3.           0.\n",
      "          2.         100.           7.  ]\n",
      " [ 15624595.           0.          22.42        11.25         1.          14.\n",
      "          8.           0.75         1.           1.           4.           0.\n",
      "          2.           0.         322.  ]\n",
      " [ 15772329.           0.          28.08        15.           1.          10.\n",
      "          9.           0.           1.           0.           0.           0.\n",
      "          2.           0.       13213.  ]\n",
      " [ 15734649.           0.          40.83        10.           2.          11.\n",
      "          8.           1.75         1.           0.           0.           0.\n",
      "          2.          29.         838.  ]\n",
      " [ 15688264.           0.          19.67         0.21         2.          11.\n",
      "          8.           0.29         1.           1.          11.           0.\n",
      "          2.          80.         100.  ]\n",
      " [ 15771856.           0.          24.5         12.75         2.           8.\n",
      "          5.           4.75         1.           1.           2.           0.\n",
      "          2.          73.         445.  ]\n",
      " [ 15679394.           0.          36.           1.           2.           8.\n",
      "          4.           2.           1.           1.          11.           0.\n",
      "          2.           0.         457.  ]\n",
      " [ 15646082.           0.          18.83         4.42         1.           8.\n",
      "          8.           3.           1.           0.           0.           0.\n",
      "          2.         240.           1.  ]\n",
      " [ 15720644.           0.          40.33         7.54         1.          11.\n",
      "          8.           8.           1.           1.          14.           0.\n",
      "          2.           0.        2301.  ]\n",
      " [ 15717629.           0.          25.17         2.88         2.          14.\n",
      "          8.           0.88         1.           0.           0.           0.\n",
      "          2.         360.           1.  ]\n",
      " [ 15808023.           0.          28.17         0.38         2.          11.\n",
      "          4.           0.58         1.           1.           4.           0.\n",
      "          2.          80.           1.  ]\n",
      " [ 15795079.           0.          19.17         8.59         2.          13.\n",
      "          8.           0.75         1.           1.           7.           0.\n",
      "          2.          96.           1.  ]\n",
      " [ 15808386.           0.          22.5          8.5          2.          11.\n",
      "          4.           1.75         1.           1.          10.           0.\n",
      "          2.          80.         991.  ]\n",
      " [ 15746258.           0.          24.08         0.5          2.          11.\n",
      "          8.           1.25         1.           1.           1.           0.\n",
      "          2.           0.         679.  ]\n",
      " [ 15644878.           0.          47.25         0.75         2.          11.\n",
      "          8.           2.75         1.           1.           1.           0.\n",
      "          2.         333.         893.  ]\n",
      " [ 15671987.           0.          25.          12.33         2.          13.\n",
      "          8.           3.5          1.           1.           6.           0.\n",
      "          2.         400.         459.  ]\n",
      " [ 15776545.           0.          25.          11.           1.           6.\n",
      "          4.           4.5          1.           0.           0.           0.\n",
      "          2.         120.           1.  ]\n",
      " [ 15764841.           0.          20.42         7.5          2.           4.\n",
      "          4.           1.5          1.           1.           1.           0.\n",
      "          2.         160.         235.  ]\n",
      " [ 15748649.           0.          21.25         2.33         2.           3.\n",
      "          5.           0.5          1.           1.           4.           0.\n",
      "          1.          80.           1.  ]\n",
      " [ 15729718.           0.          21.5          6.           2.           6.\n",
      "          4.           2.5          1.           1.           3.           0.\n",
      "          2.          80.         919.  ]\n",
      " [ 15786539.           0.          20.67         1.83         2.          11.\n",
      "          4.           2.08         1.           1.           5.           0.\n",
      "          2.         220.        2504.  ]\n",
      " [ 15773776.           0.          35.42        12.           2.          11.\n",
      "          8.          14.           1.           1.           8.           0.\n",
      "          2.           0.        6591.  ]\n",
      " [ 15778345.           0.          17.83        11.           2.          14.\n",
      "          8.           1.           1.           1.          11.           0.\n",
      "          2.           0.        3001.  ]\n",
      " [ 15700511.           0.          28.5          3.04         1.          14.\n",
      "          8.           2.54         1.           1.           1.           0.\n",
      "          2.          70.           1.  ]\n",
      " [ 15791769.           0.          26.92        13.5          2.          11.\n",
      "          8.           5.           1.           1.           2.           0.\n",
      "          2.           0.        5001.  ]\n",
      " [ 15793896.           0.          28.42         3.5          2.           9.\n",
      "          4.           0.83         1.           0.           0.           0.\n",
      "          1.         280.           1.  ]\n",
      " [ 15776494.           0.          27.42        14.5          2.          14.\n",
      "          8.           3.08         1.           1.           1.           0.\n",
      "          2.         120.          12.  ]]\n",
      "(56, 15)\n"
     ]
    }
   ],
   "source": [
    "# Finding the frauds\n",
    "mappings = som.win_map(X) # Getting all the mappings of the winning nodes of our self organizing map\n",
    "                          # Again, the win method is in minisom.py\n",
    "# print(mappings)\n",
    "frauds = np.concatenate((mappings[(8,8)], mappings[(7,7)]), axis=0)\n",
    "frauds = sc.inverse_transform(frauds)\n",
    "print(frauds)\n",
    "print(frauds.shape)"
   ]
  },
  {
   "cell_type": "markdown",
   "metadata": {},
   "source": [
    "Above are the customers information with potential frauds, and specially their IDs."
   ]
  },
  {
   "cell_type": "code",
   "execution_count": 9,
   "metadata": {},
   "outputs": [
    {
     "name": "stdout",
     "output_type": "stream",
     "text": [
      "[ 0.  0.  0.  0.  0.  0.  0.  1.  0.  1.  0.  0.  0.  0.  0.  0.  0.  1.\n",
      "  0.  1.  0.  0.  0.  0.  0.  0.  0.  0.  1.  0.  0.  0.  0.  0.  0.  0.\n",
      "  0.  0.  0.  0.  0.  0.  0.  0.  0.  1.  0.  0.  0.  1.  0.  0.  0.  0.\n",
      "  0.  0.  0.  0.  0.  0.  0.  0.  0.  0.  1.  0.  0.  0.  0.  0.  0.  0.\n",
      "  0.  0.  0.  0.  0.  0.  0.  1.  0.  0.  0.  0.  0.  0.  0.  0.  0.  0.\n",
      "  0.  0.  0.  0.  0.  0.  0.  0.  0.  1.  0.  0.  0.  0.  0.  0.  0.  0.\n",
      "  0.  0.  0.  0.  0.  1.  0.  0.  1.  0.  0.  0.  0.  0.  0.  1.  1.  0.\n",
      "  1.  0.  0.  0.  1.  0.  0.  0.  0.  0.  0.  0.  0.  0.  0.  0.  0.  0.\n",
      "  0.  0.  0.  0.  0.  0.  0.  0.  0.  0.  0.  0.  0.  0.  0.  0.  0.  0.\n",
      "  0.  0.  0.  0.  0.  0.  0.  0.  0.  0.  0.  0.  0.  0.  0.  0.  0.  0.\n",
      "  0.  0.  0.  0.  0.  0.  0.  0.  0.  0.  0.  0.  0.  0.  0.  0.  1.  0.\n",
      "  0.  0.]\n",
      "(690,)\n",
      "(690, 15)\n"
     ]
    }
   ],
   "source": [
    "# Make a hybrid Deep Learning Model\n",
    "# Combine the SOM results and a Supervised Deep Learning (ANN)\n",
    "\n",
    "# Creating the matrix of features\n",
    "customers = dataset.iloc[:, 1:].values\n",
    "# Creating the dependent variable\n",
    "is_fraud = np.zeros(len(dataset)) # Initializing our dependent vector\n",
    "\n",
    "# Extracting the customers that are in the frauds list from the data dataset\n",
    "for i in range(len(dataset)):\n",
    "    if dataset.iloc[i,0] in frauds:  # if the customer with ID i is in frauds\n",
    "        is_fraud[i] = 1              # 1 correspond to fraud\n",
    "# print(is_fraud)\n",
    "print(is_fraud[0:200])\n",
    "print(is_fraud.shape)\n",
    "print(customers.shape)"
   ]
  },
  {
   "cell_type": "code",
   "execution_count": 10,
   "metadata": {},
   "outputs": [
    {
     "name": "stderr",
     "output_type": "stream",
     "text": [
      "Using TensorFlow backend.\n"
     ]
    },
    {
     "name": "stdout",
     "output_type": "stream",
     "text": [
      "Epoch 1/2\n",
      "690/690 [==============================] - 3s 5ms/step - loss: 0.4742 - acc: 0.9188\n",
      "Epoch 2/2\n",
      "690/690 [==============================] - 1s 2ms/step - loss: 0.2142 - acc: 0.9188\n"
     ]
    },
    {
     "data": {
      "text/plain": [
       "<keras.callbacks.History at 0xded8a58>"
      ]
     },
     "execution_count": 10,
     "metadata": {},
     "output_type": "execute_result"
    }
   ],
   "source": [
    "# Time to use the ANN\n",
    "\n",
    "# Feature Scaling \n",
    "from sklearn.preprocessing import StandardScaler\n",
    "sc = StandardScaler()\n",
    "customers = sc.fit_transform(customers)\n",
    "np.set_printoptions(precision=3)\n",
    "\n",
    "# Importing the libraries\n",
    "import keras\n",
    "from keras.models import Sequential\n",
    "from keras.layers import Dense\n",
    "\n",
    "# Initialising the ANN\n",
    "classifier = Sequential()\n",
    "\n",
    "# Adding the input layer and the first hidden layer\n",
    "classifier.add(Dense(activation=\"relu\", units=2, kernel_initializer=\"uniform\", input_dim=15))\n",
    "\n",
    "# Adding the final layer (the output layer)\n",
    "classifier.add(Dense(activation=\"sigmoid\", units=1, kernel_initializer=\"uniform\"))\n",
    "\n",
    "# Compiling the ANN\n",
    "classifier.compile(optimizer=\"adam\", loss=\"binary_crossentropy\", metrics=[\"accuracy\"])\n",
    "\n",
    "# Fitting our ANN to the training set\n",
    "classifier.fit(customers, is_fraud, batch_size=1, epochs=2)\n"
   ]
  },
  {
   "cell_type": "code",
   "execution_count": 12,
   "metadata": {},
   "outputs": [
    {
     "data": {
      "text/plain": [
       "array([[ 15776156.   ,         0.012],\n",
       "       [ 15739548.   ,         0.053],\n",
       "       [ 15662854.   ,         0.023],\n",
       "       ..., \n",
       "       [ 15675450.   ,         0.222],\n",
       "       [ 15776494.   ,         0.355],\n",
       "       [ 15592412.   ,         0.099]])"
      ]
     },
     "execution_count": 12,
     "metadata": {},
     "output_type": "execute_result"
    }
   ],
   "source": [
    "# Predicting the probabilities of frauds  \n",
    "y_pred = classifier.predict(customers)\n",
    "y_pred = np.concatenate((dataset.iloc[:, 0:1].values, y_pred), axis=1)\n",
    "np.set_printoptions(precision=3)\n",
    "y_pred"
   ]
  },
  {
   "cell_type": "code",
   "execution_count": 13,
   "metadata": {},
   "outputs": [
    {
     "name": "stdout",
     "output_type": "stream",
     "text": [
      "(690, 2)\n",
      "[[ 15643056.            0.003]\n",
      " [ 15778589.            0.004]\n",
      " [ 15787229.            0.004]\n",
      " [ 15676156.            0.005]\n",
      " [ 15644400.            0.005]\n",
      " [ 15709252.            0.005]\n",
      " [ 15600975.            0.005]\n",
      " [ 15679622.            0.005]\n",
      " [ 15701885.            0.005]\n",
      " [ 15625311.            0.005]\n",
      " [ 15569917.            0.005]\n",
      " [ 15655658.            0.006]\n",
      " [ 15604196.            0.006]\n",
      " [ 15758477.            0.006]\n",
      " [ 15673747.            0.006]\n",
      " [ 15604130.            0.006]\n",
      " [ 15670646.            0.006]\n",
      " [ 15686670.            0.006]\n",
      " [ 15567860.            0.006]\n",
      " [ 15684440.            0.007]]\n"
     ]
    }
   ],
   "source": [
    "# Sorting these customers by their probabilities of doing frauds\n",
    "y_pred = y_pred[y_pred[:, 1].argsort()]\n",
    "print(y_pred.shape)\n",
    "print(y_pred[0:20])"
   ]
  },
  {
   "cell_type": "markdown",
   "metadata": {},
   "source": [
    "Predicted probabilities are ranked from the lowest to the highest, as we can see."
   ]
  },
  {
   "cell_type": "markdown",
   "metadata": {},
   "source": [
    "## 2. Boltzmann Machines"
   ]
  },
  {
   "cell_type": "markdown",
   "metadata": {},
   "source": [
    "In this section we will:\n",
    "<br> Build a Boltzmann machine.</br>\n",
    "<br> Boltzmann Machines can be seen from 2 different points of view :</br>\n",
    "<ul>\n",
    "    <li> An Energy-Based Model (EBM)</li>\n",
    "    <li> A Probabilistic Graphical Model (PGM) </li>\n",
    "</ul>"
   ]
  },
  {
   "cell_type": "code",
   "execution_count": 4,
   "metadata": {},
   "outputs": [],
   "source": [
    "# Importing the libraries\n",
    "import numpy as np\n",
    "import pandas as pd\n",
    "import torch\n",
    "import torch.nn as nn # module of torch to implement neural networks\n",
    "import torch.nn.parallel # for parallel computing\n",
    "import torch.optim as optim\n",
    "import torch.utils.data\n",
    "from torch.autograd import Variable # for Stochastic Gradient Desccent"
   ]
  },
  {
   "cell_type": "code",
   "execution_count": 5,
   "metadata": {},
   "outputs": [
    {
     "name": "stdout",
     "output_type": "stream",
     "text": [
      "(3883, 3)\n"
     ]
    },
    {
     "data": {
      "text/html": [
       "<div>\n",
       "<style scoped>\n",
       "    .dataframe tbody tr th:only-of-type {\n",
       "        vertical-align: middle;\n",
       "    }\n",
       "\n",
       "    .dataframe tbody tr th {\n",
       "        vertical-align: top;\n",
       "    }\n",
       "\n",
       "    .dataframe thead th {\n",
       "        text-align: right;\n",
       "    }\n",
       "</style>\n",
       "<table border=\"1\" class=\"dataframe\">\n",
       "  <thead>\n",
       "    <tr style=\"text-align: right;\">\n",
       "      <th></th>\n",
       "      <th>MovieID</th>\n",
       "      <th>Title</th>\n",
       "      <th>Genres</th>\n",
       "    </tr>\n",
       "  </thead>\n",
       "  <tbody>\n",
       "    <tr>\n",
       "      <th>0</th>\n",
       "      <td>1</td>\n",
       "      <td>Toy Story (1995)</td>\n",
       "      <td>Animation|Children's|Comedy</td>\n",
       "    </tr>\n",
       "    <tr>\n",
       "      <th>1</th>\n",
       "      <td>2</td>\n",
       "      <td>Jumanji (1995)</td>\n",
       "      <td>Adventure|Children's|Fantasy</td>\n",
       "    </tr>\n",
       "    <tr>\n",
       "      <th>2</th>\n",
       "      <td>3</td>\n",
       "      <td>Grumpier Old Men (1995)</td>\n",
       "      <td>Comedy|Romance</td>\n",
       "    </tr>\n",
       "    <tr>\n",
       "      <th>3</th>\n",
       "      <td>4</td>\n",
       "      <td>Waiting to Exhale (1995)</td>\n",
       "      <td>Comedy|Drama</td>\n",
       "    </tr>\n",
       "    <tr>\n",
       "      <th>4</th>\n",
       "      <td>5</td>\n",
       "      <td>Father of the Bride Part II (1995)</td>\n",
       "      <td>Comedy</td>\n",
       "    </tr>\n",
       "    <tr>\n",
       "      <th>5</th>\n",
       "      <td>6</td>\n",
       "      <td>Heat (1995)</td>\n",
       "      <td>Action|Crime|Thriller</td>\n",
       "    </tr>\n",
       "    <tr>\n",
       "      <th>6</th>\n",
       "      <td>7</td>\n",
       "      <td>Sabrina (1995)</td>\n",
       "      <td>Comedy|Romance</td>\n",
       "    </tr>\n",
       "    <tr>\n",
       "      <th>7</th>\n",
       "      <td>8</td>\n",
       "      <td>Tom and Huck (1995)</td>\n",
       "      <td>Adventure|Children's</td>\n",
       "    </tr>\n",
       "    <tr>\n",
       "      <th>8</th>\n",
       "      <td>9</td>\n",
       "      <td>Sudden Death (1995)</td>\n",
       "      <td>Action</td>\n",
       "    </tr>\n",
       "    <tr>\n",
       "      <th>9</th>\n",
       "      <td>10</td>\n",
       "      <td>GoldenEye (1995)</td>\n",
       "      <td>Action|Adventure|Thriller</td>\n",
       "    </tr>\n",
       "  </tbody>\n",
       "</table>\n",
       "</div>"
      ],
      "text/plain": [
       "   MovieID                               Title                        Genres\n",
       "0        1                    Toy Story (1995)   Animation|Children's|Comedy\n",
       "1        2                      Jumanji (1995)  Adventure|Children's|Fantasy\n",
       "2        3             Grumpier Old Men (1995)                Comedy|Romance\n",
       "3        4            Waiting to Exhale (1995)                  Comedy|Drama\n",
       "4        5  Father of the Bride Part II (1995)                        Comedy\n",
       "5        6                         Heat (1995)         Action|Crime|Thriller\n",
       "6        7                      Sabrina (1995)                Comedy|Romance\n",
       "7        8                 Tom and Huck (1995)          Adventure|Children's\n",
       "8        9                 Sudden Death (1995)                        Action\n",
       "9       10                    GoldenEye (1995)     Action|Adventure|Thriller"
      ]
     },
     "execution_count": 5,
     "metadata": {},
     "output_type": "execute_result"
    }
   ],
   "source": [
    "# Importing the dataset\n",
    "# Movies dataset\n",
    "movies = pd.read_csv('ml-1m/movies.dat', sep='::', header=None, engine='python', encoding='latin-1', \n",
    "                     names=['MovieID', 'Title','Genres'])\n",
    "print(movies.shape)\n",
    "movies.head(10)"
   ]
  },
  {
   "cell_type": "code",
   "execution_count": 6,
   "metadata": {},
   "outputs": [
    {
     "name": "stdout",
     "output_type": "stream",
     "text": [
      "(6040, 5)\n"
     ]
    },
    {
     "data": {
      "text/html": [
       "<div>\n",
       "<style scoped>\n",
       "    .dataframe tbody tr th:only-of-type {\n",
       "        vertical-align: middle;\n",
       "    }\n",
       "\n",
       "    .dataframe tbody tr th {\n",
       "        vertical-align: top;\n",
       "    }\n",
       "\n",
       "    .dataframe thead th {\n",
       "        text-align: right;\n",
       "    }\n",
       "</style>\n",
       "<table border=\"1\" class=\"dataframe\">\n",
       "  <thead>\n",
       "    <tr style=\"text-align: right;\">\n",
       "      <th></th>\n",
       "      <th>UserID</th>\n",
       "      <th>Gender</th>\n",
       "      <th>Age</th>\n",
       "      <th>Occupation</th>\n",
       "      <th>Zip</th>\n",
       "    </tr>\n",
       "  </thead>\n",
       "  <tbody>\n",
       "    <tr>\n",
       "      <th>0</th>\n",
       "      <td>1</td>\n",
       "      <td>F</td>\n",
       "      <td>1</td>\n",
       "      <td>10</td>\n",
       "      <td>48067</td>\n",
       "    </tr>\n",
       "    <tr>\n",
       "      <th>1</th>\n",
       "      <td>2</td>\n",
       "      <td>M</td>\n",
       "      <td>56</td>\n",
       "      <td>16</td>\n",
       "      <td>70072</td>\n",
       "    </tr>\n",
       "    <tr>\n",
       "      <th>2</th>\n",
       "      <td>3</td>\n",
       "      <td>M</td>\n",
       "      <td>25</td>\n",
       "      <td>15</td>\n",
       "      <td>55117</td>\n",
       "    </tr>\n",
       "    <tr>\n",
       "      <th>3</th>\n",
       "      <td>4</td>\n",
       "      <td>M</td>\n",
       "      <td>45</td>\n",
       "      <td>7</td>\n",
       "      <td>02460</td>\n",
       "    </tr>\n",
       "    <tr>\n",
       "      <th>4</th>\n",
       "      <td>5</td>\n",
       "      <td>M</td>\n",
       "      <td>25</td>\n",
       "      <td>20</td>\n",
       "      <td>55455</td>\n",
       "    </tr>\n",
       "    <tr>\n",
       "      <th>5</th>\n",
       "      <td>6</td>\n",
       "      <td>F</td>\n",
       "      <td>50</td>\n",
       "      <td>9</td>\n",
       "      <td>55117</td>\n",
       "    </tr>\n",
       "    <tr>\n",
       "      <th>6</th>\n",
       "      <td>7</td>\n",
       "      <td>M</td>\n",
       "      <td>35</td>\n",
       "      <td>1</td>\n",
       "      <td>06810</td>\n",
       "    </tr>\n",
       "    <tr>\n",
       "      <th>7</th>\n",
       "      <td>8</td>\n",
       "      <td>M</td>\n",
       "      <td>25</td>\n",
       "      <td>12</td>\n",
       "      <td>11413</td>\n",
       "    </tr>\n",
       "    <tr>\n",
       "      <th>8</th>\n",
       "      <td>9</td>\n",
       "      <td>M</td>\n",
       "      <td>25</td>\n",
       "      <td>17</td>\n",
       "      <td>61614</td>\n",
       "    </tr>\n",
       "    <tr>\n",
       "      <th>9</th>\n",
       "      <td>10</td>\n",
       "      <td>F</td>\n",
       "      <td>35</td>\n",
       "      <td>1</td>\n",
       "      <td>95370</td>\n",
       "    </tr>\n",
       "  </tbody>\n",
       "</table>\n",
       "</div>"
      ],
      "text/plain": [
       "   UserID Gender  Age  Occupation    Zip\n",
       "0       1      F    1          10  48067\n",
       "1       2      M   56          16  70072\n",
       "2       3      M   25          15  55117\n",
       "3       4      M   45           7  02460\n",
       "4       5      M   25          20  55455\n",
       "5       6      F   50           9  55117\n",
       "6       7      M   35           1  06810\n",
       "7       8      M   25          12  11413\n",
       "8       9      M   25          17  61614\n",
       "9      10      F   35           1  95370"
      ]
     },
     "execution_count": 6,
     "metadata": {},
     "output_type": "execute_result"
    }
   ],
   "source": [
    "# Users dataset\n",
    "users = pd.read_csv('ml-1m/users.dat', sep='::', header=None, engine='python', encoding='latin-1',\n",
    "                   names=['UserID','Gender','Age','Occupation','Zip'])\n",
    "print(users.shape)\n",
    "users.head(10)"
   ]
  },
  {
   "cell_type": "code",
   "execution_count": 7,
   "metadata": {},
   "outputs": [
    {
     "name": "stdout",
     "output_type": "stream",
     "text": [
      "(1000209, 4)\n"
     ]
    },
    {
     "data": {
      "text/html": [
       "<div>\n",
       "<style scoped>\n",
       "    .dataframe tbody tr th:only-of-type {\n",
       "        vertical-align: middle;\n",
       "    }\n",
       "\n",
       "    .dataframe tbody tr th {\n",
       "        vertical-align: top;\n",
       "    }\n",
       "\n",
       "    .dataframe thead th {\n",
       "        text-align: right;\n",
       "    }\n",
       "</style>\n",
       "<table border=\"1\" class=\"dataframe\">\n",
       "  <thead>\n",
       "    <tr style=\"text-align: right;\">\n",
       "      <th></th>\n",
       "      <th>UserID</th>\n",
       "      <th>MovieID</th>\n",
       "      <th>Rating</th>\n",
       "      <th>Timestamp</th>\n",
       "    </tr>\n",
       "  </thead>\n",
       "  <tbody>\n",
       "    <tr>\n",
       "      <th>0</th>\n",
       "      <td>1</td>\n",
       "      <td>1193</td>\n",
       "      <td>5</td>\n",
       "      <td>978300760</td>\n",
       "    </tr>\n",
       "    <tr>\n",
       "      <th>1</th>\n",
       "      <td>1</td>\n",
       "      <td>661</td>\n",
       "      <td>3</td>\n",
       "      <td>978302109</td>\n",
       "    </tr>\n",
       "    <tr>\n",
       "      <th>2</th>\n",
       "      <td>1</td>\n",
       "      <td>914</td>\n",
       "      <td>3</td>\n",
       "      <td>978301968</td>\n",
       "    </tr>\n",
       "    <tr>\n",
       "      <th>3</th>\n",
       "      <td>1</td>\n",
       "      <td>3408</td>\n",
       "      <td>4</td>\n",
       "      <td>978300275</td>\n",
       "    </tr>\n",
       "    <tr>\n",
       "      <th>4</th>\n",
       "      <td>1</td>\n",
       "      <td>2355</td>\n",
       "      <td>5</td>\n",
       "      <td>978824291</td>\n",
       "    </tr>\n",
       "    <tr>\n",
       "      <th>5</th>\n",
       "      <td>1</td>\n",
       "      <td>1197</td>\n",
       "      <td>3</td>\n",
       "      <td>978302268</td>\n",
       "    </tr>\n",
       "    <tr>\n",
       "      <th>6</th>\n",
       "      <td>1</td>\n",
       "      <td>1287</td>\n",
       "      <td>5</td>\n",
       "      <td>978302039</td>\n",
       "    </tr>\n",
       "    <tr>\n",
       "      <th>7</th>\n",
       "      <td>1</td>\n",
       "      <td>2804</td>\n",
       "      <td>5</td>\n",
       "      <td>978300719</td>\n",
       "    </tr>\n",
       "    <tr>\n",
       "      <th>8</th>\n",
       "      <td>1</td>\n",
       "      <td>594</td>\n",
       "      <td>4</td>\n",
       "      <td>978302268</td>\n",
       "    </tr>\n",
       "    <tr>\n",
       "      <th>9</th>\n",
       "      <td>1</td>\n",
       "      <td>919</td>\n",
       "      <td>4</td>\n",
       "      <td>978301368</td>\n",
       "    </tr>\n",
       "  </tbody>\n",
       "</table>\n",
       "</div>"
      ],
      "text/plain": [
       "   UserID  MovieID  Rating  Timestamp\n",
       "0       1     1193       5  978300760\n",
       "1       1      661       3  978302109\n",
       "2       1      914       3  978301968\n",
       "3       1     3408       4  978300275\n",
       "4       1     2355       5  978824291\n",
       "5       1     1197       3  978302268\n",
       "6       1     1287       5  978302039\n",
       "7       1     2804       5  978300719\n",
       "8       1      594       4  978302268\n",
       "9       1      919       4  978301368"
      ]
     },
     "execution_count": 7,
     "metadata": {},
     "output_type": "execute_result"
    }
   ],
   "source": [
    "# Ratings dataset\n",
    "ratings = pd.read_csv('ml-1m/ratings.dat', sep='::', header=None, engine='python', encoding='latin-1',\n",
    "                     names=['UserID','MovieID','Rating','Timestamp'])\n",
    "print(ratings.shape)\n",
    "ratings.head(10)"
   ]
  },
  {
   "cell_type": "code",
   "execution_count": 8,
   "metadata": {},
   "outputs": [
    {
     "name": "stdout",
     "output_type": "stream",
     "text": [
      "Wall time: 0 ns\n"
     ]
    },
    {
     "data": {
      "text/plain": [
       "'1997-09-23 07:02:38'"
      ]
     },
     "execution_count": 8,
     "metadata": {},
     "output_type": "execute_result"
    }
   ],
   "source": [
    "from datetime import datetime\n",
    "%time\n",
    "ratings['Time']=ratings['Timestamp'].apply(datetime.fromtimestamp)\n",
    "datetime.fromtimestamp(int(\"874965758\")).strftime('%Y-%m-%d %H:%M:%S')"
   ]
  },
  {
   "cell_type": "code",
   "execution_count": 9,
   "metadata": {},
   "outputs": [
    {
     "name": "stdout",
     "output_type": "stream",
     "text": [
      "(80000, 4)\n"
     ]
    },
    {
     "data": {
      "text/html": [
       "<div>\n",
       "<style scoped>\n",
       "    .dataframe tbody tr th:only-of-type {\n",
       "        vertical-align: middle;\n",
       "    }\n",
       "\n",
       "    .dataframe tbody tr th {\n",
       "        vertical-align: top;\n",
       "    }\n",
       "\n",
       "    .dataframe thead th {\n",
       "        text-align: right;\n",
       "    }\n",
       "</style>\n",
       "<table border=\"1\" class=\"dataframe\">\n",
       "  <thead>\n",
       "    <tr style=\"text-align: right;\">\n",
       "      <th></th>\n",
       "      <th>UserID</th>\n",
       "      <th>MovieID</th>\n",
       "      <th>Rating</th>\n",
       "      <th>Timestamp</th>\n",
       "    </tr>\n",
       "  </thead>\n",
       "  <tbody>\n",
       "    <tr>\n",
       "      <th>0</th>\n",
       "      <td>1</td>\n",
       "      <td>1</td>\n",
       "      <td>5</td>\n",
       "      <td>874965758</td>\n",
       "    </tr>\n",
       "    <tr>\n",
       "      <th>1</th>\n",
       "      <td>1</td>\n",
       "      <td>2</td>\n",
       "      <td>3</td>\n",
       "      <td>876893171</td>\n",
       "    </tr>\n",
       "    <tr>\n",
       "      <th>2</th>\n",
       "      <td>1</td>\n",
       "      <td>3</td>\n",
       "      <td>4</td>\n",
       "      <td>878542960</td>\n",
       "    </tr>\n",
       "    <tr>\n",
       "      <th>3</th>\n",
       "      <td>1</td>\n",
       "      <td>4</td>\n",
       "      <td>3</td>\n",
       "      <td>876893119</td>\n",
       "    </tr>\n",
       "    <tr>\n",
       "      <th>4</th>\n",
       "      <td>1</td>\n",
       "      <td>5</td>\n",
       "      <td>3</td>\n",
       "      <td>889751712</td>\n",
       "    </tr>\n",
       "    <tr>\n",
       "      <th>5</th>\n",
       "      <td>1</td>\n",
       "      <td>7</td>\n",
       "      <td>4</td>\n",
       "      <td>875071561</td>\n",
       "    </tr>\n",
       "    <tr>\n",
       "      <th>6</th>\n",
       "      <td>1</td>\n",
       "      <td>8</td>\n",
       "      <td>1</td>\n",
       "      <td>875072484</td>\n",
       "    </tr>\n",
       "    <tr>\n",
       "      <th>7</th>\n",
       "      <td>1</td>\n",
       "      <td>9</td>\n",
       "      <td>5</td>\n",
       "      <td>878543541</td>\n",
       "    </tr>\n",
       "    <tr>\n",
       "      <th>8</th>\n",
       "      <td>1</td>\n",
       "      <td>11</td>\n",
       "      <td>2</td>\n",
       "      <td>875072262</td>\n",
       "    </tr>\n",
       "    <tr>\n",
       "      <th>9</th>\n",
       "      <td>1</td>\n",
       "      <td>13</td>\n",
       "      <td>5</td>\n",
       "      <td>875071805</td>\n",
       "    </tr>\n",
       "  </tbody>\n",
       "</table>\n",
       "</div>"
      ],
      "text/plain": [
       "   UserID  MovieID  Rating  Timestamp\n",
       "0       1        1       5  874965758\n",
       "1       1        2       3  876893171\n",
       "2       1        3       4  878542960\n",
       "3       1        4       3  876893119\n",
       "4       1        5       3  889751712\n",
       "5       1        7       4  875071561\n",
       "6       1        8       1  875072484\n",
       "7       1        9       5  878543541\n",
       "8       1       11       2  875072262\n",
       "9       1       13       5  875071805"
      ]
     },
     "execution_count": 9,
     "metadata": {},
     "output_type": "execute_result"
    }
   ],
   "source": [
    "# Preparing the training set\n",
    "# We made 5 slipts of our ml-100k('base' means training set and 'test' means test set)\n",
    "training_set = pd.read_csv('ml-100k/u1.base', delimiter='\\t', names=['UserID','MovieID','Rating','Timestamp'])\n",
    "print(training_set.shape)\n",
    "training_set.head(10)"
   ]
  },
  {
   "cell_type": "markdown",
   "metadata": {},
   "source": [
    "The whole dataset in ml-100k is 100,000 ratings and since each observation corresponds to 1 rating, so we the splitting of 80-20."
   ]
  },
  {
   "cell_type": "code",
   "execution_count": 10,
   "metadata": {},
   "outputs": [
    {
     "data": {
      "text/plain": [
       "array([[        1,         1,         5, 874965758],\n",
       "       [        1,         2,         3, 876893171]])"
      ]
     },
     "execution_count": 10,
     "metadata": {},
     "output_type": "execute_result"
    }
   ],
   "source": [
    "# Convert the training_set into a nympy array \n",
    "t_df=training_set.copy()\n",
    "training_set = np.array(training_set, dtype='int')\n",
    "training_set[:2]"
   ]
  },
  {
   "cell_type": "code",
   "execution_count": 11,
   "metadata": {},
   "outputs": [
    {
     "name": "stdout",
     "output_type": "stream",
     "text": [
      "(20000, 4)\n"
     ]
    },
    {
     "data": {
      "text/html": [
       "<div>\n",
       "<style scoped>\n",
       "    .dataframe tbody tr th:only-of-type {\n",
       "        vertical-align: middle;\n",
       "    }\n",
       "\n",
       "    .dataframe tbody tr th {\n",
       "        vertical-align: top;\n",
       "    }\n",
       "\n",
       "    .dataframe thead th {\n",
       "        text-align: right;\n",
       "    }\n",
       "</style>\n",
       "<table border=\"1\" class=\"dataframe\">\n",
       "  <thead>\n",
       "    <tr style=\"text-align: right;\">\n",
       "      <th></th>\n",
       "      <th>UserID</th>\n",
       "      <th>MovieID</th>\n",
       "      <th>Rating</th>\n",
       "      <th>Timestamp</th>\n",
       "    </tr>\n",
       "  </thead>\n",
       "  <tbody>\n",
       "    <tr>\n",
       "      <th>0</th>\n",
       "      <td>1</td>\n",
       "      <td>6</td>\n",
       "      <td>5</td>\n",
       "      <td>887431973</td>\n",
       "    </tr>\n",
       "    <tr>\n",
       "      <th>1</th>\n",
       "      <td>1</td>\n",
       "      <td>10</td>\n",
       "      <td>3</td>\n",
       "      <td>875693118</td>\n",
       "    </tr>\n",
       "    <tr>\n",
       "      <th>2</th>\n",
       "      <td>1</td>\n",
       "      <td>12</td>\n",
       "      <td>5</td>\n",
       "      <td>878542960</td>\n",
       "    </tr>\n",
       "    <tr>\n",
       "      <th>3</th>\n",
       "      <td>1</td>\n",
       "      <td>14</td>\n",
       "      <td>5</td>\n",
       "      <td>874965706</td>\n",
       "    </tr>\n",
       "    <tr>\n",
       "      <th>4</th>\n",
       "      <td>1</td>\n",
       "      <td>17</td>\n",
       "      <td>3</td>\n",
       "      <td>875073198</td>\n",
       "    </tr>\n",
       "  </tbody>\n",
       "</table>\n",
       "</div>"
      ],
      "text/plain": [
       "   UserID  MovieID  Rating  Timestamp\n",
       "0       1        6       5  887431973\n",
       "1       1       10       3  875693118\n",
       "2       1       12       5  878542960\n",
       "3       1       14       5  874965706\n",
       "4       1       17       3  875073198"
      ]
     },
     "execution_count": 11,
     "metadata": {},
     "output_type": "execute_result"
    }
   ],
   "source": [
    "# Importing and converting the test set into a numpy array\n",
    "test_set = pd.read_csv('ml-100k/u1.test', delimiter='\\t', names=['UserID','MovieID','Rating','Timestamp'])\n",
    "print(test_set.shape)\n",
    "test_set.head()"
   ]
  },
  {
   "cell_type": "code",
   "execution_count": 12,
   "metadata": {},
   "outputs": [
    {
     "data": {
      "text/plain": [
       "array([[        1,         6,         5, 887431973],\n",
       "       [        1,        10,         3, 875693118]])"
      ]
     },
     "execution_count": 12,
     "metadata": {},
     "output_type": "execute_result"
    }
   ],
   "source": [
    "e_df=test_set.copy()\n",
    "test_set = np.array(test_set, dtype='int')\n",
    "test_set[:2]"
   ]
  },
  {
   "cell_type": "code",
   "execution_count": 13,
   "metadata": {},
   "outputs": [
    {
     "name": "stdout",
     "output_type": "stream",
     "text": [
      "943\n",
      "1682\n"
     ]
    }
   ],
   "source": [
    "# Getting the number of users and movies\n",
    "# Going to convert our matrix where the lines are going to be the users\n",
    "# The columns are going to be the movies\n",
    "# And the sales are going to be the ratings\n",
    "\n",
    "nb_users = int(max(max(training_set[:, 0]), max(test_set[:, 0])))\n",
    "nb_movies = int(max(max(training_set[:, 1]), max(test_set[:, 1])))\n",
    "print(nb_users)\n",
    "print(nb_movies)         "
   ]
  },
  {
   "cell_type": "code",
   "execution_count": 14,
   "metadata": {},
   "outputs": [
    {
     "name": "stdout",
     "output_type": "stream",
     "text": [
      "1682\n",
      "1591\n",
      "943\n",
      "462\n"
     ]
    }
   ],
   "source": [
    "# let us just check\n",
    "print(max(training_set[:, 1]))\n",
    "print(max(test_set[:, 1]))\n",
    "print(max(training_set[:, 0]))\n",
    "print(max(test_set[:, 0]))"
   ]
  },
  {
   "cell_type": "markdown",
   "metadata": {},
   "source": [
    "The maximum of nb_movies and nb_users were in the training_set, but they could have been in the test_set also. "
   ]
  },
  {
   "cell_type": "code",
   "execution_count": 15,
   "metadata": {},
   "outputs": [],
   "source": [
    "# Converting the data into an array with users in lines and movies in columns (943x1682)\n",
    "# We need to make a specific structure of data of what the Restricted Boltzmann expects, a list of a list\n",
    "# Creating a function to apply it to the traning set and the test set\n",
    "# We need to map all the users with the movies, if there is no movie rated by a user, it is taken as zero\n",
    "\n",
    "def convert(data):\n",
    "    new_data = []\n",
    "    for id_users in range(1, nb_users + 1):\n",
    "        id_movies = data[:,1][data[:,0] == id_users] # Taking all the MovieID of the 1st user, because id_users starts at 1\n",
    "        id_ratings = data[:,2][data[:,0] == id_users] # Taking all the ratings of the 1st user\n",
    "        ratings = np.zeros(nb_movies)\n",
    "        ratings[id_movies - 1] = id_ratings\n",
    "        new_data.append(list(ratings))\n",
    "    return new_data"
   ]
  },
  {
   "cell_type": "code",
   "execution_count": 16,
   "metadata": {},
   "outputs": [
    {
     "name": "stdout",
     "output_type": "stream",
     "text": [
      "Wall time: 551 ms\n"
     ]
    }
   ],
   "source": [
    "%%time\n",
    "training_set = convert(training_set)\n",
    "test_set = convert(test_set)"
   ]
  },
  {
   "cell_type": "code",
   "execution_count": 17,
   "metadata": {},
   "outputs": [
    {
     "name": "stdout",
     "output_type": "stream",
     "text": [
      "(943, 1682)\n"
     ]
    },
    {
     "data": {
      "text/plain": [
       "(943, 1682)"
      ]
     },
     "execution_count": 17,
     "metadata": {},
     "output_type": "execute_result"
    }
   ],
   "source": [
    "print(pd.DataFrame(training_set).shape)\n",
    "len(training_set), len(training_set[0])"
   ]
  },
  {
   "cell_type": "code",
   "execution_count": 18,
   "metadata": {},
   "outputs": [
    {
     "data": {
      "text/html": [
       "<div>\n",
       "<style scoped>\n",
       "    .dataframe tbody tr th:only-of-type {\n",
       "        vertical-align: middle;\n",
       "    }\n",
       "\n",
       "    .dataframe tbody tr th {\n",
       "        vertical-align: top;\n",
       "    }\n",
       "\n",
       "    .dataframe thead th {\n",
       "        text-align: right;\n",
       "    }\n",
       "</style>\n",
       "<table border=\"1\" class=\"dataframe\">\n",
       "  <thead>\n",
       "    <tr style=\"text-align: right;\">\n",
       "      <th></th>\n",
       "      <th>0</th>\n",
       "      <th>1</th>\n",
       "      <th>2</th>\n",
       "      <th>3</th>\n",
       "      <th>4</th>\n",
       "      <th>5</th>\n",
       "      <th>6</th>\n",
       "      <th>7</th>\n",
       "      <th>8</th>\n",
       "      <th>9</th>\n",
       "      <th>...</th>\n",
       "      <th>1672</th>\n",
       "      <th>1673</th>\n",
       "      <th>1674</th>\n",
       "      <th>1675</th>\n",
       "      <th>1676</th>\n",
       "      <th>1677</th>\n",
       "      <th>1678</th>\n",
       "      <th>1679</th>\n",
       "      <th>1680</th>\n",
       "      <th>1681</th>\n",
       "    </tr>\n",
       "  </thead>\n",
       "  <tbody>\n",
       "    <tr>\n",
       "      <th>0</th>\n",
       "      <td>5.0</td>\n",
       "      <td>3.0</td>\n",
       "      <td>4.0</td>\n",
       "      <td>3.0</td>\n",
       "      <td>3.0</td>\n",
       "      <td>0.0</td>\n",
       "      <td>4.0</td>\n",
       "      <td>1.0</td>\n",
       "      <td>5.0</td>\n",
       "      <td>0.0</td>\n",
       "      <td>...</td>\n",
       "      <td>0.0</td>\n",
       "      <td>0.0</td>\n",
       "      <td>0.0</td>\n",
       "      <td>0.0</td>\n",
       "      <td>0.0</td>\n",
       "      <td>0.0</td>\n",
       "      <td>0.0</td>\n",
       "      <td>0.0</td>\n",
       "      <td>0.0</td>\n",
       "      <td>0.0</td>\n",
       "    </tr>\n",
       "    <tr>\n",
       "      <th>1</th>\n",
       "      <td>4.0</td>\n",
       "      <td>0.0</td>\n",
       "      <td>0.0</td>\n",
       "      <td>0.0</td>\n",
       "      <td>0.0</td>\n",
       "      <td>0.0</td>\n",
       "      <td>0.0</td>\n",
       "      <td>0.0</td>\n",
       "      <td>0.0</td>\n",
       "      <td>2.0</td>\n",
       "      <td>...</td>\n",
       "      <td>0.0</td>\n",
       "      <td>0.0</td>\n",
       "      <td>0.0</td>\n",
       "      <td>0.0</td>\n",
       "      <td>0.0</td>\n",
       "      <td>0.0</td>\n",
       "      <td>0.0</td>\n",
       "      <td>0.0</td>\n",
       "      <td>0.0</td>\n",
       "      <td>0.0</td>\n",
       "    </tr>\n",
       "    <tr>\n",
       "      <th>2</th>\n",
       "      <td>0.0</td>\n",
       "      <td>0.0</td>\n",
       "      <td>0.0</td>\n",
       "      <td>0.0</td>\n",
       "      <td>0.0</td>\n",
       "      <td>0.0</td>\n",
       "      <td>0.0</td>\n",
       "      <td>0.0</td>\n",
       "      <td>0.0</td>\n",
       "      <td>0.0</td>\n",
       "      <td>...</td>\n",
       "      <td>0.0</td>\n",
       "      <td>0.0</td>\n",
       "      <td>0.0</td>\n",
       "      <td>0.0</td>\n",
       "      <td>0.0</td>\n",
       "      <td>0.0</td>\n",
       "      <td>0.0</td>\n",
       "      <td>0.0</td>\n",
       "      <td>0.0</td>\n",
       "      <td>0.0</td>\n",
       "    </tr>\n",
       "    <tr>\n",
       "      <th>3</th>\n",
       "      <td>0.0</td>\n",
       "      <td>0.0</td>\n",
       "      <td>0.0</td>\n",
       "      <td>0.0</td>\n",
       "      <td>0.0</td>\n",
       "      <td>0.0</td>\n",
       "      <td>0.0</td>\n",
       "      <td>0.0</td>\n",
       "      <td>0.0</td>\n",
       "      <td>0.0</td>\n",
       "      <td>...</td>\n",
       "      <td>0.0</td>\n",
       "      <td>0.0</td>\n",
       "      <td>0.0</td>\n",
       "      <td>0.0</td>\n",
       "      <td>0.0</td>\n",
       "      <td>0.0</td>\n",
       "      <td>0.0</td>\n",
       "      <td>0.0</td>\n",
       "      <td>0.0</td>\n",
       "      <td>0.0</td>\n",
       "    </tr>\n",
       "    <tr>\n",
       "      <th>4</th>\n",
       "      <td>0.0</td>\n",
       "      <td>0.0</td>\n",
       "      <td>0.0</td>\n",
       "      <td>0.0</td>\n",
       "      <td>0.0</td>\n",
       "      <td>0.0</td>\n",
       "      <td>0.0</td>\n",
       "      <td>0.0</td>\n",
       "      <td>0.0</td>\n",
       "      <td>0.0</td>\n",
       "      <td>...</td>\n",
       "      <td>0.0</td>\n",
       "      <td>0.0</td>\n",
       "      <td>0.0</td>\n",
       "      <td>0.0</td>\n",
       "      <td>0.0</td>\n",
       "      <td>0.0</td>\n",
       "      <td>0.0</td>\n",
       "      <td>0.0</td>\n",
       "      <td>0.0</td>\n",
       "      <td>0.0</td>\n",
       "    </tr>\n",
       "  </tbody>\n",
       "</table>\n",
       "<p>5 rows × 1682 columns</p>\n",
       "</div>"
      ],
      "text/plain": [
       "   0     1     2     3     4     5     6     7     8     9     ...   1672  \\\n",
       "0   5.0   3.0   4.0   3.0   3.0   0.0   4.0   1.0   5.0   0.0  ...    0.0   \n",
       "1   4.0   0.0   0.0   0.0   0.0   0.0   0.0   0.0   0.0   2.0  ...    0.0   \n",
       "2   0.0   0.0   0.0   0.0   0.0   0.0   0.0   0.0   0.0   0.0  ...    0.0   \n",
       "3   0.0   0.0   0.0   0.0   0.0   0.0   0.0   0.0   0.0   0.0  ...    0.0   \n",
       "4   0.0   0.0   0.0   0.0   0.0   0.0   0.0   0.0   0.0   0.0  ...    0.0   \n",
       "\n",
       "   1673  1674  1675  1676  1677  1678  1679  1680  1681  \n",
       "0   0.0   0.0   0.0   0.0   0.0   0.0   0.0   0.0   0.0  \n",
       "1   0.0   0.0   0.0   0.0   0.0   0.0   0.0   0.0   0.0  \n",
       "2   0.0   0.0   0.0   0.0   0.0   0.0   0.0   0.0   0.0  \n",
       "3   0.0   0.0   0.0   0.0   0.0   0.0   0.0   0.0   0.0  \n",
       "4   0.0   0.0   0.0   0.0   0.0   0.0   0.0   0.0   0.0  \n",
       "\n",
       "[5 rows x 1682 columns]"
      ]
     },
     "execution_count": 18,
     "metadata": {},
     "output_type": "execute_result"
    }
   ],
   "source": [
    "pd.DataFrame(training_set).head()"
   ]
  },
  {
   "cell_type": "code",
   "execution_count": 19,
   "metadata": {},
   "outputs": [
    {
     "data": {
      "text/html": [
       "<div>\n",
       "<style scoped>\n",
       "    .dataframe tbody tr th:only-of-type {\n",
       "        vertical-align: middle;\n",
       "    }\n",
       "\n",
       "    .dataframe tbody tr th {\n",
       "        vertical-align: top;\n",
       "    }\n",
       "\n",
       "    .dataframe thead th {\n",
       "        text-align: right;\n",
       "    }\n",
       "</style>\n",
       "<table border=\"1\" class=\"dataframe\">\n",
       "  <thead>\n",
       "    <tr style=\"text-align: right;\">\n",
       "      <th></th>\n",
       "      <th>UserID</th>\n",
       "      <th>MovieID</th>\n",
       "      <th>Rating</th>\n",
       "      <th>Timestamp</th>\n",
       "    </tr>\n",
       "  </thead>\n",
       "  <tbody>\n",
       "    <tr>\n",
       "      <th>79995</th>\n",
       "      <td>943</td>\n",
       "      <td>1067</td>\n",
       "      <td>2</td>\n",
       "      <td>875501756</td>\n",
       "    </tr>\n",
       "    <tr>\n",
       "      <th>79996</th>\n",
       "      <td>943</td>\n",
       "      <td>1074</td>\n",
       "      <td>4</td>\n",
       "      <td>888640250</td>\n",
       "    </tr>\n",
       "    <tr>\n",
       "      <th>79997</th>\n",
       "      <td>943</td>\n",
       "      <td>1188</td>\n",
       "      <td>3</td>\n",
       "      <td>888640250</td>\n",
       "    </tr>\n",
       "    <tr>\n",
       "      <th>79998</th>\n",
       "      <td>943</td>\n",
       "      <td>1228</td>\n",
       "      <td>3</td>\n",
       "      <td>888640275</td>\n",
       "    </tr>\n",
       "    <tr>\n",
       "      <th>79999</th>\n",
       "      <td>943</td>\n",
       "      <td>1330</td>\n",
       "      <td>3</td>\n",
       "      <td>888692465</td>\n",
       "    </tr>\n",
       "  </tbody>\n",
       "</table>\n",
       "</div>"
      ],
      "text/plain": [
       "       UserID  MovieID  Rating  Timestamp\n",
       "79995     943     1067       2  875501756\n",
       "79996     943     1074       4  888640250\n",
       "79997     943     1188       3  888640250\n",
       "79998     943     1228       3  888640275\n",
       "79999     943     1330       3  888692465"
      ]
     },
     "execution_count": 19,
     "metadata": {},
     "output_type": "execute_result"
    }
   ],
   "source": [
    "t_df.tail()"
   ]
  },
  {
   "cell_type": "code",
   "execution_count": 20,
   "metadata": {},
   "outputs": [],
   "source": [
    "tmp = t_df.groupby('UserID').apply(lambda x: sorted(zip(list(x['MovieID']),list(x['Rating']))))"
   ]
  },
  {
   "cell_type": "code",
   "execution_count": 21,
   "metadata": {},
   "outputs": [
    {
     "data": {
      "text/plain": [
       "UserID\n",
       "1    [(1, 5), (2, 3), (3, 4), (4, 3), (5, 3), (7, 4...\n",
       "2    [(1, 4), (10, 2), (14, 4), (25, 4), (100, 5), ...\n",
       "3    [(181, 4), (258, 2), (260, 4), (268, 3), (271,...\n",
       "4    [(11, 4), (210, 3), (258, 5), (271, 4), (300, ...\n",
       "5    [(21, 3), (25, 3), (29, 4), (50, 4), (63, 1), ...\n",
       "dtype: object"
      ]
     },
     "execution_count": 21,
     "metadata": {},
     "output_type": "execute_result"
    }
   ],
   "source": [
    "tmp.head()"
   ]
  },
  {
   "cell_type": "code",
   "execution_count": 22,
   "metadata": {},
   "outputs": [],
   "source": [
    "tmp = tmp.apply(lambda x: {i[0]:i[1] for i in x})"
   ]
  },
  {
   "cell_type": "code",
   "execution_count": 23,
   "metadata": {},
   "outputs": [
    {
     "data": {
      "text/plain": [
       "UserID\n",
       "1    {1: 5, 2: 3, 3: 4, 4: 3, 5: 3, 7: 4, 8: 1, 9: ...\n",
       "2    {1: 4, 10: 2, 14: 4, 25: 4, 100: 5, 111: 4, 12...\n",
       "3    {181: 4, 258: 2, 260: 4, 268: 3, 271: 3, 288: ...\n",
       "4    {11: 4, 210: 3, 258: 5, 271: 4, 300: 5, 301: 5...\n",
       "5    {21: 3, 25: 3, 29: 4, 50: 4, 63: 1, 66: 1, 70:...\n",
       "dtype: object"
      ]
     },
     "execution_count": 23,
     "metadata": {},
     "output_type": "execute_result"
    }
   ],
   "source": [
    "tmp.head()"
   ]
  },
  {
   "cell_type": "code",
   "execution_count": 24,
   "metadata": {},
   "outputs": [
    {
     "data": {
      "text/html": [
       "<div>\n",
       "<style scoped>\n",
       "    .dataframe tbody tr th:only-of-type {\n",
       "        vertical-align: middle;\n",
       "    }\n",
       "\n",
       "    .dataframe tbody tr th {\n",
       "        vertical-align: top;\n",
       "    }\n",
       "\n",
       "    .dataframe thead th {\n",
       "        text-align: right;\n",
       "    }\n",
       "</style>\n",
       "<table border=\"1\" class=\"dataframe\">\n",
       "  <thead>\n",
       "    <tr style=\"text-align: right;\">\n",
       "      <th></th>\n",
       "      <th>1</th>\n",
       "      <th>2</th>\n",
       "      <th>3</th>\n",
       "      <th>4</th>\n",
       "      <th>5</th>\n",
       "      <th>6</th>\n",
       "      <th>7</th>\n",
       "      <th>8</th>\n",
       "      <th>9</th>\n",
       "      <th>10</th>\n",
       "      <th>...</th>\n",
       "      <th>1673</th>\n",
       "      <th>1674</th>\n",
       "      <th>1675</th>\n",
       "      <th>1676</th>\n",
       "      <th>1677</th>\n",
       "      <th>1678</th>\n",
       "      <th>1679</th>\n",
       "      <th>1680</th>\n",
       "      <th>1681</th>\n",
       "      <th>1682</th>\n",
       "    </tr>\n",
       "  </thead>\n",
       "  <tbody>\n",
       "    <tr>\n",
       "      <th>0</th>\n",
       "      <td>5.0</td>\n",
       "      <td>3.0</td>\n",
       "      <td>4.0</td>\n",
       "      <td>3.0</td>\n",
       "      <td>3.0</td>\n",
       "      <td>NaN</td>\n",
       "      <td>4.0</td>\n",
       "      <td>1.0</td>\n",
       "      <td>5.0</td>\n",
       "      <td>NaN</td>\n",
       "      <td>...</td>\n",
       "      <td>NaN</td>\n",
       "      <td>NaN</td>\n",
       "      <td>NaN</td>\n",
       "      <td>NaN</td>\n",
       "      <td>NaN</td>\n",
       "      <td>NaN</td>\n",
       "      <td>NaN</td>\n",
       "      <td>NaN</td>\n",
       "      <td>NaN</td>\n",
       "      <td>NaN</td>\n",
       "    </tr>\n",
       "    <tr>\n",
       "      <th>1</th>\n",
       "      <td>4.0</td>\n",
       "      <td>NaN</td>\n",
       "      <td>NaN</td>\n",
       "      <td>NaN</td>\n",
       "      <td>NaN</td>\n",
       "      <td>NaN</td>\n",
       "      <td>NaN</td>\n",
       "      <td>NaN</td>\n",
       "      <td>NaN</td>\n",
       "      <td>2.0</td>\n",
       "      <td>...</td>\n",
       "      <td>NaN</td>\n",
       "      <td>NaN</td>\n",
       "      <td>NaN</td>\n",
       "      <td>NaN</td>\n",
       "      <td>NaN</td>\n",
       "      <td>NaN</td>\n",
       "      <td>NaN</td>\n",
       "      <td>NaN</td>\n",
       "      <td>NaN</td>\n",
       "      <td>NaN</td>\n",
       "    </tr>\n",
       "    <tr>\n",
       "      <th>2</th>\n",
       "      <td>NaN</td>\n",
       "      <td>NaN</td>\n",
       "      <td>NaN</td>\n",
       "      <td>NaN</td>\n",
       "      <td>NaN</td>\n",
       "      <td>NaN</td>\n",
       "      <td>NaN</td>\n",
       "      <td>NaN</td>\n",
       "      <td>NaN</td>\n",
       "      <td>NaN</td>\n",
       "      <td>...</td>\n",
       "      <td>NaN</td>\n",
       "      <td>NaN</td>\n",
       "      <td>NaN</td>\n",
       "      <td>NaN</td>\n",
       "      <td>NaN</td>\n",
       "      <td>NaN</td>\n",
       "      <td>NaN</td>\n",
       "      <td>NaN</td>\n",
       "      <td>NaN</td>\n",
       "      <td>NaN</td>\n",
       "    </tr>\n",
       "    <tr>\n",
       "      <th>3</th>\n",
       "      <td>NaN</td>\n",
       "      <td>NaN</td>\n",
       "      <td>NaN</td>\n",
       "      <td>NaN</td>\n",
       "      <td>NaN</td>\n",
       "      <td>NaN</td>\n",
       "      <td>NaN</td>\n",
       "      <td>NaN</td>\n",
       "      <td>NaN</td>\n",
       "      <td>NaN</td>\n",
       "      <td>...</td>\n",
       "      <td>NaN</td>\n",
       "      <td>NaN</td>\n",
       "      <td>NaN</td>\n",
       "      <td>NaN</td>\n",
       "      <td>NaN</td>\n",
       "      <td>NaN</td>\n",
       "      <td>NaN</td>\n",
       "      <td>NaN</td>\n",
       "      <td>NaN</td>\n",
       "      <td>NaN</td>\n",
       "    </tr>\n",
       "    <tr>\n",
       "      <th>4</th>\n",
       "      <td>NaN</td>\n",
       "      <td>NaN</td>\n",
       "      <td>NaN</td>\n",
       "      <td>NaN</td>\n",
       "      <td>NaN</td>\n",
       "      <td>NaN</td>\n",
       "      <td>NaN</td>\n",
       "      <td>NaN</td>\n",
       "      <td>NaN</td>\n",
       "      <td>NaN</td>\n",
       "      <td>...</td>\n",
       "      <td>NaN</td>\n",
       "      <td>NaN</td>\n",
       "      <td>NaN</td>\n",
       "      <td>NaN</td>\n",
       "      <td>NaN</td>\n",
       "      <td>NaN</td>\n",
       "      <td>NaN</td>\n",
       "      <td>NaN</td>\n",
       "      <td>NaN</td>\n",
       "      <td>NaN</td>\n",
       "    </tr>\n",
       "  </tbody>\n",
       "</table>\n",
       "<p>5 rows × 1650 columns</p>\n",
       "</div>"
      ],
      "text/plain": [
       "   1     2     3     4     5     6     7     8     9     10    ...   1673  \\\n",
       "0   5.0   3.0   4.0   3.0   3.0   NaN   4.0   1.0   5.0   NaN  ...    NaN   \n",
       "1   4.0   NaN   NaN   NaN   NaN   NaN   NaN   NaN   NaN   2.0  ...    NaN   \n",
       "2   NaN   NaN   NaN   NaN   NaN   NaN   NaN   NaN   NaN   NaN  ...    NaN   \n",
       "3   NaN   NaN   NaN   NaN   NaN   NaN   NaN   NaN   NaN   NaN  ...    NaN   \n",
       "4   NaN   NaN   NaN   NaN   NaN   NaN   NaN   NaN   NaN   NaN  ...    NaN   \n",
       "\n",
       "   1674  1675  1676  1677  1678  1679  1680  1681  1682  \n",
       "0   NaN   NaN   NaN   NaN   NaN   NaN   NaN   NaN   NaN  \n",
       "1   NaN   NaN   NaN   NaN   NaN   NaN   NaN   NaN   NaN  \n",
       "2   NaN   NaN   NaN   NaN   NaN   NaN   NaN   NaN   NaN  \n",
       "3   NaN   NaN   NaN   NaN   NaN   NaN   NaN   NaN   NaN  \n",
       "4   NaN   NaN   NaN   NaN   NaN   NaN   NaN   NaN   NaN  \n",
       "\n",
       "[5 rows x 1650 columns]"
      ]
     },
     "execution_count": 24,
     "metadata": {},
     "output_type": "execute_result"
    }
   ],
   "source": [
    "pd.DataFrame(tmp.tolist()).head()"
   ]
  },
  {
   "cell_type": "code",
   "execution_count": 25,
   "metadata": {},
   "outputs": [
    {
     "data": {
      "text/plain": [
       "(943, 1682)"
      ]
     },
     "execution_count": 25,
     "metadata": {},
     "output_type": "execute_result"
    }
   ],
   "source": [
    "mapped = pd.DataFrame(tmp.tolist(),columns=range(1,nb_movies+1)).fillna(0)\n",
    "mapped.shape"
   ]
  },
  {
   "cell_type": "code",
   "execution_count": 26,
   "metadata": {},
   "outputs": [
    {
     "data": {
      "text/html": [
       "<div>\n",
       "<style scoped>\n",
       "    .dataframe tbody tr th:only-of-type {\n",
       "        vertical-align: middle;\n",
       "    }\n",
       "\n",
       "    .dataframe tbody tr th {\n",
       "        vertical-align: top;\n",
       "    }\n",
       "\n",
       "    .dataframe thead th {\n",
       "        text-align: right;\n",
       "    }\n",
       "</style>\n",
       "<table border=\"1\" class=\"dataframe\">\n",
       "  <thead>\n",
       "    <tr style=\"text-align: right;\">\n",
       "      <th></th>\n",
       "      <th>1</th>\n",
       "      <th>2</th>\n",
       "      <th>3</th>\n",
       "      <th>4</th>\n",
       "      <th>5</th>\n",
       "      <th>6</th>\n",
       "      <th>7</th>\n",
       "      <th>8</th>\n",
       "      <th>9</th>\n",
       "      <th>10</th>\n",
       "      <th>...</th>\n",
       "      <th>1673</th>\n",
       "      <th>1674</th>\n",
       "      <th>1675</th>\n",
       "      <th>1676</th>\n",
       "      <th>1677</th>\n",
       "      <th>1678</th>\n",
       "      <th>1679</th>\n",
       "      <th>1680</th>\n",
       "      <th>1681</th>\n",
       "      <th>1682</th>\n",
       "    </tr>\n",
       "  </thead>\n",
       "  <tbody>\n",
       "    <tr>\n",
       "      <th>0</th>\n",
       "      <td>5.0</td>\n",
       "      <td>3.0</td>\n",
       "      <td>4.0</td>\n",
       "      <td>3.0</td>\n",
       "      <td>3.0</td>\n",
       "      <td>0.0</td>\n",
       "      <td>4.0</td>\n",
       "      <td>1.0</td>\n",
       "      <td>5.0</td>\n",
       "      <td>0.0</td>\n",
       "      <td>...</td>\n",
       "      <td>0.0</td>\n",
       "      <td>0.0</td>\n",
       "      <td>0.0</td>\n",
       "      <td>0.0</td>\n",
       "      <td>0.0</td>\n",
       "      <td>0.0</td>\n",
       "      <td>0.0</td>\n",
       "      <td>0.0</td>\n",
       "      <td>0.0</td>\n",
       "      <td>0.0</td>\n",
       "    </tr>\n",
       "    <tr>\n",
       "      <th>1</th>\n",
       "      <td>4.0</td>\n",
       "      <td>0.0</td>\n",
       "      <td>0.0</td>\n",
       "      <td>0.0</td>\n",
       "      <td>0.0</td>\n",
       "      <td>0.0</td>\n",
       "      <td>0.0</td>\n",
       "      <td>0.0</td>\n",
       "      <td>0.0</td>\n",
       "      <td>2.0</td>\n",
       "      <td>...</td>\n",
       "      <td>0.0</td>\n",
       "      <td>0.0</td>\n",
       "      <td>0.0</td>\n",
       "      <td>0.0</td>\n",
       "      <td>0.0</td>\n",
       "      <td>0.0</td>\n",
       "      <td>0.0</td>\n",
       "      <td>0.0</td>\n",
       "      <td>0.0</td>\n",
       "      <td>0.0</td>\n",
       "    </tr>\n",
       "    <tr>\n",
       "      <th>2</th>\n",
       "      <td>0.0</td>\n",
       "      <td>0.0</td>\n",
       "      <td>0.0</td>\n",
       "      <td>0.0</td>\n",
       "      <td>0.0</td>\n",
       "      <td>0.0</td>\n",
       "      <td>0.0</td>\n",
       "      <td>0.0</td>\n",
       "      <td>0.0</td>\n",
       "      <td>0.0</td>\n",
       "      <td>...</td>\n",
       "      <td>0.0</td>\n",
       "      <td>0.0</td>\n",
       "      <td>0.0</td>\n",
       "      <td>0.0</td>\n",
       "      <td>0.0</td>\n",
       "      <td>0.0</td>\n",
       "      <td>0.0</td>\n",
       "      <td>0.0</td>\n",
       "      <td>0.0</td>\n",
       "      <td>0.0</td>\n",
       "    </tr>\n",
       "    <tr>\n",
       "      <th>3</th>\n",
       "      <td>0.0</td>\n",
       "      <td>0.0</td>\n",
       "      <td>0.0</td>\n",
       "      <td>0.0</td>\n",
       "      <td>0.0</td>\n",
       "      <td>0.0</td>\n",
       "      <td>0.0</td>\n",
       "      <td>0.0</td>\n",
       "      <td>0.0</td>\n",
       "      <td>0.0</td>\n",
       "      <td>...</td>\n",
       "      <td>0.0</td>\n",
       "      <td>0.0</td>\n",
       "      <td>0.0</td>\n",
       "      <td>0.0</td>\n",
       "      <td>0.0</td>\n",
       "      <td>0.0</td>\n",
       "      <td>0.0</td>\n",
       "      <td>0.0</td>\n",
       "      <td>0.0</td>\n",
       "      <td>0.0</td>\n",
       "    </tr>\n",
       "    <tr>\n",
       "      <th>4</th>\n",
       "      <td>0.0</td>\n",
       "      <td>0.0</td>\n",
       "      <td>0.0</td>\n",
       "      <td>0.0</td>\n",
       "      <td>0.0</td>\n",
       "      <td>0.0</td>\n",
       "      <td>0.0</td>\n",
       "      <td>0.0</td>\n",
       "      <td>0.0</td>\n",
       "      <td>0.0</td>\n",
       "      <td>...</td>\n",
       "      <td>0.0</td>\n",
       "      <td>0.0</td>\n",
       "      <td>0.0</td>\n",
       "      <td>0.0</td>\n",
       "      <td>0.0</td>\n",
       "      <td>0.0</td>\n",
       "      <td>0.0</td>\n",
       "      <td>0.0</td>\n",
       "      <td>0.0</td>\n",
       "      <td>0.0</td>\n",
       "    </tr>\n",
       "  </tbody>\n",
       "</table>\n",
       "<p>5 rows × 1682 columns</p>\n",
       "</div>"
      ],
      "text/plain": [
       "   1     2     3     4     5     6     7     8     9     10    ...   1673  \\\n",
       "0   5.0   3.0   4.0   3.0   3.0   0.0   4.0   1.0   5.0   0.0  ...    0.0   \n",
       "1   4.0   0.0   0.0   0.0   0.0   0.0   0.0   0.0   0.0   2.0  ...    0.0   \n",
       "2   0.0   0.0   0.0   0.0   0.0   0.0   0.0   0.0   0.0   0.0  ...    0.0   \n",
       "3   0.0   0.0   0.0   0.0   0.0   0.0   0.0   0.0   0.0   0.0  ...    0.0   \n",
       "4   0.0   0.0   0.0   0.0   0.0   0.0   0.0   0.0   0.0   0.0  ...    0.0   \n",
       "\n",
       "   1674  1675  1676  1677  1678  1679  1680  1681  1682  \n",
       "0   0.0   0.0   0.0   0.0   0.0   0.0   0.0   0.0   0.0  \n",
       "1   0.0   0.0   0.0   0.0   0.0   0.0   0.0   0.0   0.0  \n",
       "2   0.0   0.0   0.0   0.0   0.0   0.0   0.0   0.0   0.0  \n",
       "3   0.0   0.0   0.0   0.0   0.0   0.0   0.0   0.0   0.0  \n",
       "4   0.0   0.0   0.0   0.0   0.0   0.0   0.0   0.0   0.0  \n",
       "\n",
       "[5 rows x 1682 columns]"
      ]
     },
     "execution_count": 26,
     "metadata": {},
     "output_type": "execute_result"
    }
   ],
   "source": [
    "mapped.head()"
   ]
  },
  {
   "cell_type": "code",
   "execution_count": 27,
   "metadata": {},
   "outputs": [
    {
     "data": {
      "text/plain": [
       "(943, 1682)"
      ]
     },
     "execution_count": 27,
     "metadata": {},
     "output_type": "execute_result"
    }
   ],
   "source": [
    "mapped.values.shape"
   ]
  },
  {
   "cell_type": "code",
   "execution_count": 28,
   "metadata": {},
   "outputs": [
    {
     "data": {
      "text/plain": [
       "numpy.ndarray"
      ]
     },
     "execution_count": 28,
     "metadata": {},
     "output_type": "execute_result"
    }
   ],
   "source": [
    "type(mapped.values)"
   ]
  },
  {
   "cell_type": "markdown",
   "metadata": {},
   "source": [
    "Let us check our training_set and our mapped list"
   ]
  },
  {
   "cell_type": "code",
   "execution_count": 29,
   "metadata": {},
   "outputs": [
    {
     "name": "stdout",
     "output_type": "stream",
     "text": [
      "True\n"
     ]
    },
    {
     "data": {
      "text/plain": [
       "True"
      ]
     },
     "execution_count": 29,
     "metadata": {},
     "output_type": "execute_result"
    }
   ],
   "source": [
    "print(np.array_equal(mapped.values, np.array(training_set))) # That's one way\n",
    "mapped.values.tolist()==training_set # Another way with the same result"
   ]
  },
  {
   "cell_type": "code",
   "execution_count": 30,
   "metadata": {},
   "outputs": [],
   "source": [
    "# Converting the dataset into Torch Tensors\n",
    "training_set = torch.FloatTensor(training_set)\n",
    "test_set = torch.FloatTensor(test_set)"
   ]
  },
  {
   "cell_type": "code",
   "execution_count": 31,
   "metadata": {},
   "outputs": [
    {
     "data": {
      "text/plain": [
       "torch.Tensor"
      ]
     },
     "execution_count": 31,
     "metadata": {},
     "output_type": "execute_result"
    }
   ],
   "source": [
    "type(training_set)"
   ]
  },
  {
   "cell_type": "code",
   "execution_count": 32,
   "metadata": {},
   "outputs": [
    {
     "data": {
      "text/plain": [
       "tensor([[5., 3., 4.,  ..., 0., 0., 0.],\n",
       "        [4., 0., 0.,  ..., 0., 0., 0.],\n",
       "        [0., 0., 0.,  ..., 0., 0., 0.],\n",
       "        ...,\n",
       "        [5., 0., 0.,  ..., 0., 0., 0.],\n",
       "        [0., 0., 0.,  ..., 0., 0., 0.],\n",
       "        [0., 5., 0.,  ..., 0., 0., 0.]])"
      ]
     },
     "execution_count": 32,
     "metadata": {},
     "output_type": "execute_result"
    }
   ],
   "source": [
    "training_set"
   ]
  },
  {
   "cell_type": "code",
   "execution_count": 33,
   "metadata": {},
   "outputs": [
    {
     "data": {
      "text/plain": [
       "tensor([[0, 0, 0,  ..., 1, 1, 1],\n",
       "        [0, 1, 1,  ..., 1, 1, 1],\n",
       "        [1, 1, 1,  ..., 1, 1, 1],\n",
       "        ...,\n",
       "        [0, 1, 1,  ..., 1, 1, 1],\n",
       "        [1, 1, 1,  ..., 1, 1, 1],\n",
       "        [1, 0, 1,  ..., 1, 1, 1]], dtype=torch.uint8)"
      ]
     },
     "execution_count": 33,
     "metadata": {},
     "output_type": "execute_result"
    }
   ],
   "source": [
    "training_set==0 # All the zeros in the training_set"
   ]
  },
  {
   "cell_type": "code",
   "execution_count": 34,
   "metadata": {},
   "outputs": [],
   "source": [
    "# Converting the ratings into binary ratings 1 (Liked) or 0 (Not Liked)\n",
    "training_set[training_set==0]=-1 # Means -1 will be no ratings"
   ]
  },
  {
   "cell_type": "code",
   "execution_count": 35,
   "metadata": {},
   "outputs": [
    {
     "data": {
      "text/plain": [
       "tensor([[ 5.,  3.,  4.,  ..., -1., -1., -1.],\n",
       "        [ 4., -1., -1.,  ..., -1., -1., -1.],\n",
       "        [-1., -1., -1.,  ..., -1., -1., -1.],\n",
       "        ...,\n",
       "        [ 5., -1., -1.,  ..., -1., -1., -1.],\n",
       "        [-1., -1., -1.,  ..., -1., -1., -1.],\n",
       "        [-1.,  5., -1.,  ..., -1., -1., -1.]])"
      ]
     },
     "execution_count": 35,
     "metadata": {},
     "output_type": "execute_result"
    }
   ],
   "source": [
    "training_set"
   ]
  },
  {
   "cell_type": "code",
   "execution_count": 36,
   "metadata": {},
   "outputs": [],
   "source": [
    "training_set[training_set==0]=-1 # No ratings\n",
    "training_set[training_set==1]=0 # No likes\n",
    "training_set[training_set==2]=0 # No likes\n",
    "training_set[training_set>=3]=1 # Likes"
   ]
  },
  {
   "cell_type": "code",
   "execution_count": 37,
   "metadata": {},
   "outputs": [],
   "source": [
    "# Same for the test_set\n",
    "test_set[test_set==0]=-1\n",
    "test_set[test_set==1]=0\n",
    "test_set[test_set==2]=0\n",
    "test_set[test_set>=3]=1"
   ]
  },
  {
   "cell_type": "code",
   "execution_count": 38,
   "metadata": {},
   "outputs": [
    {
     "data": {
      "text/plain": [
       "tensor([[ 1.0171, -0.6540,  1.7576, -0.0835],\n",
       "        [-0.8068, -2.0485,  0.7299, -0.3903]])"
      ]
     },
     "execution_count": 38,
     "metadata": {},
     "output_type": "execute_result"
    }
   ],
   "source": [
    "# Going deeper in Torch\n",
    "torch.randn(2,4) # random numbers from a normal distribution with mean 0 and variance 1 "
   ]
  },
  {
   "cell_type": "code",
   "execution_count": 39,
   "metadata": {},
   "outputs": [
    {
     "data": {
      "text/plain": [
       "tensor([[-0.3524, -0.0088, -0.4379, -0.3914, -1.3420, -0.8285,  0.4344]])"
      ]
     },
     "execution_count": 39,
     "metadata": {},
     "output_type": "execute_result"
    }
   ],
   "source": [
    "torch.randn(1,7)"
   ]
  },
  {
   "cell_type": "code",
   "execution_count": 40,
   "metadata": {},
   "outputs": [
    {
     "data": {
      "text/plain": [
       "tensor([[-1.0989, -0.7846, -1.4483, -1.0103],\n",
       "        [-0.1219,  1.0607, -1.1750, -1.4361]])"
      ]
     },
     "execution_count": 40,
     "metadata": {},
     "output_type": "execute_result"
    }
   ],
   "source": [
    "torch.randn(2,4)"
   ]
  },
  {
   "cell_type": "code",
   "execution_count": 41,
   "metadata": {},
   "outputs": [
    {
     "data": {
      "text/plain": [
       "tensor([[8, 2, 3, 5],\n",
       "        [6, 2, 7, 9]], dtype=torch.int32)"
      ]
     },
     "execution_count": 41,
     "metadata": {},
     "output_type": "execute_result"
    }
   ],
   "source": [
    "x = torch.IntTensor([[8,2,3,5],[6,2,7,9]])\n",
    "x"
   ]
  },
  {
   "cell_type": "code",
   "execution_count": 42,
   "metadata": {},
   "outputs": [
    {
     "data": {
      "text/plain": [
       "tensor([[66, 22, 11],\n",
       "        [77, 33, 99],\n",
       "        [ 5,  5, 11],\n",
       "        [13, 31,  2]], dtype=torch.int32)"
      ]
     },
     "execution_count": 42,
     "metadata": {},
     "output_type": "execute_result"
    }
   ],
   "source": [
    "y = torch.IntTensor([[66,22,11],[77,33,99],[5,5,11],[13,31,2]])\n",
    "y"
   ]
  },
  {
   "cell_type": "code",
   "execution_count": 43,
   "metadata": {},
   "outputs": [
    {
     "data": {
      "text/plain": [
       "tensor([[762, 412, 329],\n",
       "        [702, 512, 359]], dtype=torch.int32)"
      ]
     },
     "execution_count": 43,
     "metadata": {},
     "output_type": "execute_result"
    }
   ],
   "source": [
    "torch.mm(x,y) # multiplication"
   ]
  },
  {
   "cell_type": "code",
   "execution_count": 44,
   "metadata": {},
   "outputs": [
    {
     "data": {
      "text/plain": [
       "tensor([[8, 2, 3, 5],\n",
       "        [6, 2, 7, 9]], dtype=torch.int32)"
      ]
     },
     "execution_count": 44,
     "metadata": {},
     "output_type": "execute_result"
    }
   ],
   "source": [
    "x"
   ]
  },
  {
   "cell_type": "code",
   "execution_count": 45,
   "metadata": {},
   "outputs": [
    {
     "data": {
      "text/plain": [
       "tensor([[8, 6],\n",
       "        [2, 2],\n",
       "        [3, 7],\n",
       "        [5, 9]], dtype=torch.int32)"
      ]
     },
     "execution_count": 45,
     "metadata": {},
     "output_type": "execute_result"
    }
   ],
   "source": [
    "x.t() # Transposed of x "
   ]
  },
  {
   "cell_type": "code",
   "execution_count": 46,
   "metadata": {},
   "outputs": [
    {
     "data": {
      "text/plain": [
       "tensor([[102, 118],\n",
       "        [118, 170]], dtype=torch.int32)"
      ]
     },
     "execution_count": 46,
     "metadata": {},
     "output_type": "execute_result"
    }
   ],
   "source": [
    "torch.mm(x, x.t()) "
   ]
  },
  {
   "cell_type": "code",
   "execution_count": 47,
   "metadata": {},
   "outputs": [
    {
     "data": {
      "text/plain": [
       "tensor([[100,  28,  66,  94],\n",
       "        [ 28,   8,  20,  28],\n",
       "        [ 66,  20,  58,  78],\n",
       "        [ 94,  28,  78, 106]], dtype=torch.int32)"
      ]
     },
     "execution_count": 47,
     "metadata": {},
     "output_type": "execute_result"
    }
   ],
   "source": [
    "torch.mm(x.t(),x) # Transposition is not commutative"
   ]
  },
  {
   "cell_type": "markdown",
   "metadata": {},
   "source": [
    "### Creating the architecture of the NN\n",
    "<ul>\n",
    "<li> W: weights, probabilities of visible nodes given the hidden nodes </li>\n",
    "<li> nv: No. of visible nodes </li>\n",
    "    <li> nh: No. of hidden nodes </li>\n",
    "    <li> a, b: bias </li>\n",
    "    <li> a: the probabilities of the hidden nodes given the visible nodes, p(h) given v </li>\n",
    "    <li> b: the probabilities of the visible nodes given the hidden nodes </li>"
   ]
  },
  {
   "cell_type": "code",
   "execution_count": 48,
   "metadata": {},
   "outputs": [
    {
     "name": "stdout",
     "output_type": "stream",
     "text": [
      "<class 'torch.Tensor'>\n"
     ]
    },
    {
     "data": {
      "text/plain": [
       "tensor([[ 0.9991,  0.2125,  1.9158, -1.0880]])"
      ]
     },
     "execution_count": 48,
     "metadata": {},
     "output_type": "execute_result"
    }
   ],
   "source": [
    "# But first recall some basics in PyTorch\n",
    "\n",
    "q=torch.randn(1,4) # Randomly initialized matrix\n",
    "print(type(q))\n",
    "q"
   ]
  },
  {
   "cell_type": "code",
   "execution_count": 49,
   "metadata": {},
   "outputs": [
    {
     "data": {
      "text/plain": [
       "tensor([[ 0.9991,  0.2125,  1.9158, -1.0880],\n",
       "        [ 0.9991,  0.2125,  1.9158, -1.0880],\n",
       "        [ 0.9991,  0.2125,  1.9158, -1.0880],\n",
       "        [ 0.9991,  0.2125,  1.9158, -1.0880],\n",
       "        [ 0.9991,  0.2125,  1.9158, -1.0880]])"
      ]
     },
     "execution_count": 49,
     "metadata": {},
     "output_type": "execute_result"
    }
   ],
   "source": [
    "q.expand_as(torch.rand(5,4)) # Pretty forward"
   ]
  },
  {
   "cell_type": "code",
   "execution_count": 50,
   "metadata": {},
   "outputs": [
    {
     "data": {
      "text/plain": [
       "tensor([[ 1.1138,  1.3386,  0.1511,  0.8549],\n",
       "        [-0.4586, -0.4285,  0.6680, -0.2793],\n",
       "        [-0.7813,  0.1676, -1.5403, -2.1250]])"
      ]
     },
     "execution_count": 50,
     "metadata": {},
     "output_type": "execute_result"
    }
   ],
   "source": [
    "aaa = torch.randn(3,4)\n",
    "aaa"
   ]
  },
  {
   "cell_type": "code",
   "execution_count": 51,
   "metadata": {},
   "outputs": [
    {
     "data": {
      "text/plain": [
       "tensor([[0.7528, 0.7923, 0.5377, 0.7016],\n",
       "        [0.3873, 0.3945, 0.6610, 0.4306],\n",
       "        [0.3140, 0.5418, 0.1765, 0.1067]])"
      ]
     },
     "execution_count": 51,
     "metadata": {},
     "output_type": "execute_result"
    }
   ],
   "source": [
    "torch.sigmoid(aaa) # sigmoid function"
   ]
  },
  {
   "cell_type": "code",
   "execution_count": 52,
   "metadata": {},
   "outputs": [
    {
     "data": {
      "text/plain": [
       "tensor([[0.8490, 0.2341, 0.5122, 0.8622, 0.1586, 0.3497],\n",
       "        [0.7018, 0.8958, 0.1742, 0.6127, 0.4806, 0.7101]])"
      ]
     },
     "execution_count": 52,
     "metadata": {},
     "output_type": "execute_result"
    }
   ],
   "source": [
    "aa=torch.rand(2,6)\n",
    "aa"
   ]
  },
  {
   "cell_type": "code",
   "execution_count": 53,
   "metadata": {},
   "outputs": [
    {
     "data": {
      "text/plain": [
       "tensor([[1., 0., 0., 1., 1., 1.],\n",
       "        [0., 1., 0., 1., 1., 1.]])"
      ]
     },
     "execution_count": 53,
     "metadata": {},
     "output_type": "execute_result"
    }
   ],
   "source": [
    "# torch.bernoulli?\n",
    "torch.bernoulli(aa) # Bernoulli function"
   ]
  },
  {
   "cell_type": "code",
   "execution_count": 54,
   "metadata": {},
   "outputs": [
    {
     "data": {
      "text/plain": [
       "tensor([[0.3533, 0.7078, 0.3434, 0.7771],\n",
       "        [0.4020, 0.7933, 0.6139, 0.1412]])"
      ]
     },
     "execution_count": 54,
     "metadata": {},
     "output_type": "execute_result"
    }
   ],
   "source": [
    "cc = torch.rand(2,4)\n",
    "cc"
   ]
  },
  {
   "cell_type": "code",
   "execution_count": 55,
   "metadata": {},
   "outputs": [
    {
     "data": {
      "text/plain": [
       "tensor(4.1320)"
      ]
     },
     "execution_count": 55,
     "metadata": {},
     "output_type": "execute_result"
    }
   ],
   "source": [
    "torch.sum(cc) # Sum of the elements of cc"
   ]
  },
  {
   "cell_type": "code",
   "execution_count": 56,
   "metadata": {},
   "outputs": [
    {
     "data": {
      "text/plain": [
       "tensor([0.7552, 1.5011, 0.9574, 0.9183])"
      ]
     },
     "execution_count": 56,
     "metadata": {},
     "output_type": "execute_result"
    }
   ],
   "source": [
    "torch.sum(cc, 0) # Sum of columns"
   ]
  },
  {
   "cell_type": "code",
   "execution_count": 57,
   "metadata": {},
   "outputs": [
    {
     "data": {
      "text/plain": [
       "tensor([2.1816, 1.9504])"
      ]
     },
     "execution_count": 57,
     "metadata": {},
     "output_type": "execute_result"
    }
   ],
   "source": [
    "torch.sum(cc, 1) # Sum of lines"
   ]
  },
  {
   "cell_type": "code",
   "execution_count": 58,
   "metadata": {},
   "outputs": [],
   "source": [
    "# Creating the architecture of the NN\n",
    "\n",
    "class RBM():\n",
    "    def __init__(self, nv, nh):\n",
    "        self.W = torch.randn(nh, nv) # Initializing randomly according to a normal ditribution\n",
    "        self.a = torch.randn(1, nh) # 2D tensor, 1st dim corresponds to the batch and the 2nd to the bias\n",
    "        self.b = torch.randn(1, nv) \n",
    "        \n",
    "    # sampling the hidden nodes according to the probabilities p(h) given v\n",
    "    def sample_h(self, x):\n",
    "        wx = torch.mm(x, self.W.t())\n",
    "        activation = wx + self.a.expand_as(wx) \n",
    "        p_h_given_v = torch.sigmoid(activation)\n",
    "        \n",
    "        return p_h_given_v, torch.bernoulli(p_h_given_v)\n",
    "    \n",
    "    # sampling the visible nodes according to the probabilities p(v) given h\n",
    "    def sample_v(self, y):\n",
    "        wy = torch.mm(y, self.W)\n",
    "        activation = wy + self.b.expand_as(wy)\n",
    "        p_v_given_h = torch.sigmoid(activation)\n",
    "        \n",
    "        return p_v_given_h, torch.bernoulli(p_v_given_h)\n",
    "    \n",
    "    # Using the contrastive divergence to estimate the log-likelihood divergence\n",
    "    def train(self, v0, vk, ph0, phk):\n",
    "        self.W += (torch.mm(v0.t(), ph0) - torch.mm(vk.t(), phk)).t()\n",
    "        self.b += torch.sum((v0 - vk), 0)\n",
    "        self.a += torch.sum((ph0 - phk), 0)\n",
    "        \n",
    "    def __repr__(self):\n",
    "        string= \"RBM object\\nnv: {}\\nnh: {}\".format(nv, nh)\n",
    "        return string"
   ]
  },
  {
   "cell_type": "code",
   "execution_count": 59,
   "metadata": {},
   "outputs": [
    {
     "name": "stdout",
     "output_type": "stream",
     "text": [
      "1682 100\n"
     ]
    }
   ],
   "source": [
    "nv=len(training_set[0]) # nv = len(nb_movies) also works\n",
    "nh=100\n",
    "print(nv, nh)\n",
    "batch_size=100"
   ]
  },
  {
   "cell_type": "code",
   "execution_count": 60,
   "metadata": {},
   "outputs": [
    {
     "data": {
      "text/plain": [
       "RBM object\n",
       "nv: 1682\n",
       "nh: 100"
      ]
     },
     "execution_count": 60,
     "metadata": {},
     "output_type": "execute_result"
    }
   ],
   "source": [
    "# Creating a RBM object\n",
    "rbm = RBM(nv, nh)\n",
    "nb_epoch=12\n",
    "rbm"
   ]
  },
  {
   "cell_type": "code",
   "execution_count": 61,
   "metadata": {},
   "outputs": [
    {
     "name": "stdout",
     "output_type": "stream",
     "text": [
      "epoch: 1 loss: tensor(0.3079)\n",
      "epoch: 2 loss: tensor(0.1368)\n",
      "epoch: 3 loss: tensor(0.1408)\n",
      "epoch: 4 loss: tensor(0.1470)\n",
      "epoch: 5 loss: tensor(0.1477)\n",
      "epoch: 6 loss: tensor(0.1542)\n",
      "epoch: 7 loss: tensor(0.1449)\n",
      "epoch: 8 loss: tensor(0.1501)\n",
      "epoch: 9 loss: tensor(0.1472)\n",
      "epoch: 10 loss: tensor(0.1482)\n",
      "epoch: 11 loss: tensor(0.1469)\n",
      "epoch: 12 loss: tensor(0.1507)\n"
     ]
    }
   ],
   "source": [
    "# Training the RBM\n",
    "for epoch in range(1, nb_epoch+1):\n",
    "    train_loss = 0\n",
    "    s = 0.\n",
    "    \n",
    "    for id_user in range(0, nb_users - batch_size, batch_size):\n",
    "        vk = training_set[id_user:id_user + batch_size]\n",
    "        v0 = training_set[id_user:id_user + batch_size] # At the beginning the target is same as the input\n",
    "        ph0, _ = rbm.sample_h(v0) # Initial probabilities, probabilities of the hn = 1 given the real ratings\n",
    "        \n",
    "        for k in range(10):\n",
    "            _, hk = rbm.sample_h(vk) # Get the 1st sampled hidden node (here vk=v0)\n",
    "            _, vk = rbm.sample_v(hk) # Update vk, visible node after the 1st sampling\n",
    "            vk[v0<0] = v0[v0<0] # Make sure that the non-rated movies are not trained\n",
    "            \n",
    "        phk, _ = rbm.sample_h(vk)\n",
    "        rbm.train(v0, vk, ph0, phk)\n",
    "        train_loss += torch.mean(torch.abs(v0[v0>0] - vk[v0>0]))\n",
    "        s += 1.\n",
    "        \n",
    "    print('epoch: '+ str(epoch) + ' loss: '+ str(train_loss/s))"
   ]
  },
  {
   "cell_type": "code",
   "execution_count": 62,
   "metadata": {},
   "outputs": [
    {
     "data": {
      "text/plain": [
       "tensor([[ 1.,  1.,  1.,  ..., -1., -1., -1.],\n",
       "        [ 1., -1., -1.,  ..., -1., -1., -1.],\n",
       "        [-1., -1., -1.,  ..., -1., -1., -1.],\n",
       "        ...,\n",
       "        [ 1., -1., -1.,  ..., -1., -1., -1.],\n",
       "        [-1., -1., -1.,  ..., -1., -1., -1.],\n",
       "        [-1.,  1., -1.,  ..., -1., -1., -1.]])"
      ]
     },
     "execution_count": 62,
     "metadata": {},
     "output_type": "execute_result"
    }
   ],
   "source": [
    "training_set"
   ]
  },
  {
   "cell_type": "code",
   "execution_count": 63,
   "metadata": {},
   "outputs": [
    {
     "name": "stdout",
     "output_type": "stream",
     "text": [
      "test loss: tensor(0.2329)\n"
     ]
    }
   ],
   "source": [
    "# Testing the RBM\n",
    "test_loss = 0\n",
    "s = 0.\n",
    "for id_user in range(nb_users):\n",
    "    v = training_set[id_user:id_user+1]\n",
    "    vt = test_set[id_user:id_user+1]\n",
    "    if len(vt[vt>=0]) > 0:\n",
    "        _,h = rbm.sample_h(v)\n",
    "        _,v = rbm.sample_v(h)\n",
    "        test_loss += torch.mean(torch.abs(vt[vt>=0] - v[vt>=0]))\n",
    "        s += 1.\n",
    "print('test loss: '+str(test_loss/s))"
   ]
  },
  {
   "cell_type": "markdown",
   "metadata": {},
   "source": [
    "## 3. AutoEncoders"
   ]
  },
  {
   "cell_type": "markdown",
   "metadata": {},
   "source": [
    "In this part we will:\n",
    "<ol>\n",
    "    <li> build an AutoEncoder from scratch with PyTorch </li>\n",
    "    <li> how to manipulate classes and objects to improve and tune your AutoEncoder </li>\n",
    "</ol>\n",
    "We will be using the same datasets as the ones in the Boltzmann Machines section."
   ]
  },
  {
   "cell_type": "code",
   "execution_count": 41,
   "metadata": {},
   "outputs": [],
   "source": [
    "# Importing the libraries\n",
    "import numpy as np\n",
    "import pandas as pd\n",
    "import torch\n",
    "import torch.nn as nn # module of torch to implement neural networks\n",
    "import torch.nn.parallel # for parallel computing\n",
    "import torch.optim as optim\n",
    "import torch.utils.data\n",
    "from torch.autograd import Variable # for Stochastic Gradient Desccent\n",
    "\n",
    "movies = pd.read_csv('ml-1m/movies.dat', sep='::', header=None, engine='python', encoding='latin-1', \n",
    "                     names=['MovieID', 'Title','Genres'])\n",
    "\n",
    "users = pd.read_csv('ml-1m/users.dat', sep='::', header=None, engine='python', encoding='latin-1',\n",
    "                   names=['UserID','Gender','Age','Occupation','Zip'])\n",
    "ratings = pd.read_csv('ml-1m/ratings.dat', sep='::', header=None, engine='python', encoding='latin-1',\n",
    "                     names=['UserID','MovieID','Rating','Timestamp'])\n",
    "\n",
    "# Training set and Test set\n",
    "training_set = pd.read_csv('ml-100k/u1.base', delimiter='\\t', names=['UserID','MovieID','Rating','Timestamp'])\n",
    "training_set = np.array(training_set, dtype='int')\n",
    "test_set = pd.read_csv('ml-100k/u1.test', delimiter='\\t', names=['UserID','MovieID','Rating','Timestamp'])\n",
    "test_set = np.array(test_set, dtype='int')"
   ]
  },
  {
   "cell_type": "code",
   "execution_count": 42,
   "metadata": {},
   "outputs": [],
   "source": [
    "nb_users = int(max(max(training_set[:, 0]), max(test_set[:, 0])))\n",
    "nb_movies = int(max(max(training_set[:, 1]), max(test_set[:, 1])))\n",
    "\n",
    "def convert(data):\n",
    "    new_data = []\n",
    "    for id_users in range(1, nb_users + 1):\n",
    "        id_movies = data[:,1][data[:,0] == id_users] # Taking all the MovieID of the 1st user, because id_users starts at 1\n",
    "        id_ratings = data[:,2][data[:,0] == id_users] # Taking all the ratings of the 1st user\n",
    "        ratings = np.zeros(nb_movies)\n",
    "        ratings[id_movies - 1] = id_ratings\n",
    "        new_data.append(list(ratings))\n",
    "    return new_data"
   ]
  },
  {
   "cell_type": "code",
   "execution_count": 43,
   "metadata": {},
   "outputs": [],
   "source": [
    "training_set = convert(training_set)\n",
    "test_set = convert(test_set)"
   ]
  },
  {
   "cell_type": "code",
   "execution_count": 44,
   "metadata": {},
   "outputs": [],
   "source": [
    "# Converting the data into Torch tensors\n",
    "training_set = torch.FloatTensor(training_set)\n",
    "test_set = torch.FloatTensor(test_set)"
   ]
  },
  {
   "cell_type": "code",
   "execution_count": 45,
   "metadata": {},
   "outputs": [],
   "source": [
    "# Creating the architecture of the NN\n",
    "class SAE(nn.Module): # Stacked Autoencoders\n",
    "    def __init__(self, ):\n",
    "        super(SAE, self).__init__()\n",
    "        self.fc1 = nn.Linear(nb_movies, 20)\n",
    "        self.fc2 = nn.Linear(20, 10)\n",
    "        self.fc3 = nn.Linear(10, 20)\n",
    "        self.fc4 = nn.Linear(20, nb_movies)  \n",
    "        self.activation = nn.Sigmoid()      # Activation function\n",
    "        \n",
    "    def forward(self, x):\n",
    "        x = self.activation(self.fc1(x))\n",
    "        x = self.activation(self.fc2(x))\n",
    "        x = self.activation(self.fc3(x))\n",
    "        x = self.fc4(x)\n",
    "        return x # vector of predicted ratings\n",
    "    \n",
    "sae = SAE()\n",
    "criterion = nn.MSELoss()\n",
    "optimizer = optim.RMSprop(sae.parameters(), lr=0.01, weight_decay=0.5)"
   ]
  },
  {
   "cell_type": "code",
   "execution_count": 46,
   "metadata": {},
   "outputs": [
    {
     "name": "stderr",
     "output_type": "stream",
     "text": [
      "C:\\Users\\hamidou\\Anaconda3\\lib\\site-packages\\ipykernel_launcher.py:16: UserWarning: invalid index of a 0-dim tensor. This will be an error in PyTorch 0.5. Use tensor.item() to convert a 0-dim tensor to a Python number\n",
      "  app.launch_new_instance()\n"
     ]
    },
    {
     "name": "stdout",
     "output_type": "stream",
     "text": [
      "epoch: 1 loss: tensor(1.7716)\n",
      "epoch: 2 loss: tensor(1.0968)\n",
      "epoch: 3 loss: tensor(1.0533)\n",
      "epoch: 4 loss: tensor(1.0383)\n",
      "epoch: 5 loss: tensor(1.0308)\n",
      "epoch: 6 loss: tensor(1.0268)\n",
      "epoch: 7 loss: tensor(1.0238)\n",
      "epoch: 8 loss: tensor(1.0221)\n",
      "epoch: 9 loss: tensor(1.0208)\n",
      "epoch: 10 loss: tensor(1.0199)\n",
      "epoch: 11 loss: tensor(1.0188)\n",
      "epoch: 12 loss: tensor(1.0184)\n",
      "epoch: 13 loss: tensor(1.0183)\n",
      "epoch: 14 loss: tensor(1.0176)\n",
      "epoch: 15 loss: tensor(1.0173)\n",
      "epoch: 16 loss: tensor(1.0170)\n",
      "epoch: 17 loss: tensor(1.0168)\n",
      "epoch: 18 loss: tensor(1.0166)\n",
      "epoch: 19 loss: tensor(1.0163)\n",
      "epoch: 20 loss: tensor(1.0162)\n",
      "epoch: 21 loss: tensor(1.0163)\n",
      "epoch: 22 loss: tensor(1.0160)\n",
      "epoch: 23 loss: tensor(1.0160)\n",
      "epoch: 24 loss: tensor(1.0160)\n",
      "epoch: 25 loss: tensor(1.0156)\n",
      "epoch: 26 loss: tensor(1.0158)\n",
      "epoch: 27 loss: tensor(1.0154)\n",
      "epoch: 28 loss: tensor(1.0151)\n",
      "epoch: 29 loss: tensor(1.0135)\n",
      "epoch: 30 loss: tensor(1.0115)\n",
      "epoch: 31 loss: tensor(1.0089)\n",
      "epoch: 32 loss: tensor(1.0062)\n",
      "epoch: 33 loss: tensor(1.0062)\n",
      "epoch: 34 loss: tensor(1.0031)\n",
      "epoch: 35 loss: tensor(1.0026)\n",
      "epoch: 36 loss: tensor(0.9992)\n",
      "epoch: 37 loss: tensor(0.9972)\n",
      "epoch: 38 loss: tensor(0.9958)\n",
      "epoch: 39 loss: tensor(0.9945)\n",
      "epoch: 40 loss: tensor(0.9917)\n",
      "epoch: 41 loss: tensor(0.9892)\n",
      "epoch: 42 loss: tensor(0.9863)\n",
      "epoch: 43 loss: tensor(0.9829)\n",
      "epoch: 44 loss: tensor(0.9809)\n",
      "epoch: 45 loss: tensor(0.9799)\n",
      "epoch: 46 loss: tensor(0.9774)\n",
      "epoch: 47 loss: tensor(0.9777)\n",
      "epoch: 48 loss: tensor(0.9749)\n",
      "epoch: 49 loss: tensor(0.9715)\n",
      "epoch: 50 loss: tensor(0.9683)\n",
      "epoch: 51 loss: tensor(0.9711)\n",
      "epoch: 52 loss: tensor(0.9670)\n",
      "epoch: 53 loss: tensor(0.9657)\n",
      "epoch: 54 loss: tensor(0.9631)\n",
      "epoch: 55 loss: tensor(0.9633)\n",
      "epoch: 56 loss: tensor(0.9608)\n",
      "epoch: 57 loss: tensor(0.9589)\n",
      "epoch: 58 loss: tensor(0.9584)\n",
      "epoch: 59 loss: tensor(0.9576)\n",
      "epoch: 60 loss: tensor(0.9558)\n",
      "epoch: 61 loss: tensor(0.9546)\n",
      "epoch: 62 loss: tensor(0.9513)\n",
      "epoch: 63 loss: tensor(0.9517)\n",
      "epoch: 64 loss: tensor(0.9495)\n",
      "epoch: 65 loss: tensor(0.9494)\n",
      "epoch: 66 loss: tensor(0.9474)\n",
      "epoch: 67 loss: tensor(0.9474)\n",
      "epoch: 68 loss: tensor(0.9454)\n",
      "epoch: 69 loss: tensor(0.9461)\n",
      "epoch: 70 loss: tensor(0.9434)\n",
      "epoch: 71 loss: tensor(0.9447)\n",
      "epoch: 72 loss: tensor(0.9419)\n",
      "epoch: 73 loss: tensor(0.9432)\n",
      "epoch: 74 loss: tensor(0.9416)\n",
      "epoch: 75 loss: tensor(0.9421)\n",
      "epoch: 76 loss: tensor(0.9400)\n",
      "epoch: 77 loss: tensor(0.9406)\n",
      "epoch: 78 loss: tensor(0.9395)\n",
      "epoch: 79 loss: tensor(0.9397)\n",
      "epoch: 80 loss: tensor(0.9384)\n",
      "epoch: 81 loss: tensor(0.9390)\n",
      "epoch: 82 loss: tensor(0.9376)\n",
      "epoch: 83 loss: tensor(0.9380)\n",
      "epoch: 84 loss: tensor(0.9371)\n",
      "epoch: 85 loss: tensor(0.9370)\n",
      "epoch: 86 loss: tensor(0.9360)\n",
      "epoch: 87 loss: tensor(0.9362)\n",
      "epoch: 88 loss: tensor(0.9355)\n",
      "epoch: 89 loss: tensor(0.9352)\n",
      "epoch: 90 loss: tensor(0.9346)\n",
      "epoch: 91 loss: tensor(0.9344)\n",
      "epoch: 92 loss: tensor(0.9339)\n",
      "epoch: 93 loss: tensor(0.9339)\n",
      "epoch: 94 loss: tensor(0.9332)\n",
      "epoch: 95 loss: tensor(0.9334)\n",
      "epoch: 96 loss: tensor(0.9326)\n",
      "epoch: 97 loss: tensor(0.9325)\n",
      "epoch: 98 loss: tensor(0.9315)\n",
      "epoch: 99 loss: tensor(0.9314)\n",
      "epoch: 100 loss: tensor(0.9310)\n",
      "epoch: 101 loss: tensor(0.9312)\n",
      "epoch: 102 loss: tensor(0.9303)\n",
      "epoch: 103 loss: tensor(0.9302)\n",
      "epoch: 104 loss: tensor(0.9298)\n",
      "epoch: 105 loss: tensor(0.9297)\n",
      "epoch: 106 loss: tensor(0.9292)\n",
      "epoch: 107 loss: tensor(0.9293)\n",
      "epoch: 108 loss: tensor(0.9287)\n",
      "epoch: 109 loss: tensor(0.9287)\n",
      "epoch: 110 loss: tensor(0.9282)\n",
      "epoch: 111 loss: tensor(0.9281)\n",
      "epoch: 112 loss: tensor(0.9276)\n",
      "epoch: 113 loss: tensor(0.9275)\n",
      "epoch: 114 loss: tensor(0.9271)\n",
      "epoch: 115 loss: tensor(0.9267)\n",
      "epoch: 116 loss: tensor(0.9263)\n",
      "epoch: 117 loss: tensor(0.9264)\n",
      "epoch: 118 loss: tensor(0.9260)\n",
      "epoch: 119 loss: tensor(0.9259)\n",
      "epoch: 120 loss: tensor(0.9253)\n",
      "epoch: 121 loss: tensor(0.9251)\n",
      "epoch: 122 loss: tensor(0.9247)\n",
      "epoch: 123 loss: tensor(0.9245)\n",
      "epoch: 124 loss: tensor(0.9242)\n",
      "epoch: 125 loss: tensor(0.9239)\n",
      "epoch: 126 loss: tensor(0.9234)\n",
      "epoch: 127 loss: tensor(0.9235)\n",
      "epoch: 128 loss: tensor(0.9233)\n",
      "epoch: 129 loss: tensor(0.9232)\n",
      "epoch: 130 loss: tensor(0.9228)\n",
      "epoch: 131 loss: tensor(0.9226)\n",
      "epoch: 132 loss: tensor(0.9221)\n",
      "epoch: 133 loss: tensor(0.9219)\n",
      "epoch: 134 loss: tensor(0.9216)\n",
      "epoch: 135 loss: tensor(0.9215)\n",
      "epoch: 136 loss: tensor(0.9213)\n",
      "epoch: 137 loss: tensor(0.9210)\n",
      "epoch: 138 loss: tensor(0.9207)\n",
      "epoch: 139 loss: tensor(0.9205)\n",
      "epoch: 140 loss: tensor(0.9203)\n",
      "epoch: 141 loss: tensor(0.9204)\n",
      "epoch: 142 loss: tensor(0.9199)\n",
      "epoch: 143 loss: tensor(0.9199)\n",
      "epoch: 144 loss: tensor(0.9194)\n",
      "epoch: 145 loss: tensor(0.9192)\n",
      "epoch: 146 loss: tensor(0.9190)\n",
      "epoch: 147 loss: tensor(0.9189)\n",
      "epoch: 148 loss: tensor(0.9188)\n",
      "epoch: 149 loss: tensor(0.9186)\n",
      "epoch: 150 loss: tensor(0.9185)\n",
      "epoch: 151 loss: tensor(0.9181)\n",
      "epoch: 152 loss: tensor(0.9176)\n",
      "epoch: 153 loss: tensor(0.9177)\n",
      "epoch: 154 loss: tensor(0.9176)\n",
      "epoch: 155 loss: tensor(0.9177)\n",
      "epoch: 156 loss: tensor(0.9174)\n",
      "epoch: 157 loss: tensor(0.9171)\n",
      "epoch: 158 loss: tensor(0.9169)\n",
      "epoch: 159 loss: tensor(0.9169)\n",
      "epoch: 160 loss: tensor(0.9165)\n",
      "epoch: 161 loss: tensor(0.9166)\n",
      "epoch: 162 loss: tensor(0.9160)\n",
      "epoch: 163 loss: tensor(0.9162)\n",
      "epoch: 164 loss: tensor(0.9159)\n",
      "epoch: 165 loss: tensor(0.9160)\n",
      "epoch: 166 loss: tensor(0.9155)\n",
      "epoch: 167 loss: tensor(0.9156)\n",
      "epoch: 168 loss: tensor(0.9149)\n",
      "epoch: 169 loss: tensor(0.9151)\n",
      "epoch: 170 loss: tensor(0.9146)\n",
      "epoch: 171 loss: tensor(0.9150)\n",
      "epoch: 172 loss: tensor(0.9144)\n",
      "epoch: 173 loss: tensor(0.9163)\n",
      "epoch: 174 loss: tensor(0.9168)\n",
      "epoch: 175 loss: tensor(0.9179)\n",
      "epoch: 176 loss: tensor(0.9171)\n",
      "epoch: 177 loss: tensor(0.9169)\n",
      "epoch: 178 loss: tensor(0.9166)\n",
      "epoch: 179 loss: tensor(0.9161)\n",
      "epoch: 180 loss: tensor(0.9160)\n",
      "epoch: 181 loss: tensor(0.9158)\n",
      "epoch: 182 loss: tensor(0.9156)\n",
      "epoch: 183 loss: tensor(0.9156)\n",
      "epoch: 184 loss: tensor(0.9152)\n",
      "epoch: 185 loss: tensor(0.9149)\n",
      "epoch: 186 loss: tensor(0.9147)\n",
      "epoch: 187 loss: tensor(0.9146)\n",
      "epoch: 188 loss: tensor(0.9145)\n",
      "epoch: 189 loss: tensor(0.9142)\n",
      "epoch: 190 loss: tensor(0.9139)\n",
      "epoch: 191 loss: tensor(0.9139)\n",
      "epoch: 192 loss: tensor(0.9138)\n",
      "epoch: 193 loss: tensor(0.9136)\n",
      "epoch: 194 loss: tensor(0.9132)\n",
      "epoch: 195 loss: tensor(0.9133)\n",
      "epoch: 196 loss: tensor(0.9132)\n",
      "epoch: 197 loss: tensor(0.9131)\n",
      "epoch: 198 loss: tensor(0.9129)\n",
      "epoch: 199 loss: tensor(0.9128)\n",
      "epoch: 200 loss: tensor(0.9126)\n"
     ]
    }
   ],
   "source": [
    "# Training our SAE\n",
    "nb_epoch = 200\n",
    "for epoch in range(1, nb_epoch + 1):\n",
    "    train_loss = 0\n",
    "    s = 0. # Introducing this variable to take only into our computations the users who rated at least one movie\n",
    "    for id_user in range(nb_users):\n",
    "        input = Variable(training_set[id_user]).unsqueeze(0)\n",
    "        target = input.clone()\n",
    "        if torch.sum(target.data > 0) > 0:\n",
    "            output = sae(input) # vector of predicted ratings\n",
    "            target.require_grad = False # Make sure that the gradient is not computed with respect to the target\n",
    "            output[target == 0] = 0\n",
    "            loss = criterion(output, target)\n",
    "            mean_correcter = nb_movies/float(torch.sum(target.data > 0) + 1e-10)\n",
    "            loss.backward() # Backward is about which weights will be updated, the direction\n",
    "            train_loss += np.sqrt(loss.data[0] * mean_correcter) # getting the state of the art error\n",
    "            s += 1.\n",
    "            optimizer.step() # Optimizer is about the amount by which the weights will be updated\n",
    "     \n",
    "    print('epoch: '+str(epoch)+' loss: '+str(train_loss/s))"
   ]
  },
  {
   "cell_type": "code",
   "execution_count": null,
   "metadata": {},
   "outputs": [],
   "source": [
    "# Testing our SAE\n",
    "test_loss = 0\n",
    "s = 0. # number of users who rated at least one movie\n",
    "for id_user in range(nb_users):\n",
    "    input = Variable(training_set[id_user]).unsqueeze(0)\n",
    "    target = Variable(test_set[id_user])\n",
    "    if torch.sum(target.data > 0) > 0:\n",
    "        output = sae(input) \n",
    "        target.require_grad = False \n",
    "        output[target == 0] = 0\n",
    "        loss = criterion(output, target)\n",
    "        mean_corrector = nb_movies/float(torch.sum(target.data > 0) + 1e-10)\n",
    "        test_loss += np.sqrt(loss.data[0] * mean_corrector) \n",
    "        s += 1.\n",
    "print('test loss: '+str(test_loss/s))"
   ]
  }
 ],
 "metadata": {
  "kernelspec": {
   "display_name": "Python 3",
   "language": "python",
   "name": "python3"
  },
  "language_info": {
   "codemirror_mode": {
    "name": "ipython",
    "version": 3
   },
   "file_extension": ".py",
   "mimetype": "text/x-python",
   "name": "python",
   "nbconvert_exporter": "python",
   "pygments_lexer": "ipython3",
   "version": "3.6.4"
  }
 },
 "nbformat": 4,
 "nbformat_minor": 2
}
